{
 "cells": [
  {
   "cell_type": "code",
   "execution_count": null,
   "metadata": {},
   "outputs": [],
   "source": [
    "import numpy as np\n",
    "import matplotlib.pyplot as plt\n",
    "from sklearn.datasets import make_blobs\n",
    "from sklearn.cluster import KMeans\n",
    "from sklearn.metrics import silhouette_score, adjusted_rand_score, normalized_mutual_info_score\n",
    "from sklearn.metrics import calinski_harabasz_score, davies_bouldin_score\n",
    "\n",
    "# Crear un conjunto de datos sintético\n",
    "X, y_true = make_blobs(n_samples=500, centers=4, cluster_std=0.60, random_state=42)\n",
    "\n",
    "# Aplicar K-means con 4 clusters\n",
    "kmeans = KMeans(n_clusters=4, random_state=42)\n",
    "y_kmeans = kmeans.fit_predict(X)\n",
    "\n",
    "# Visualización inicial\n",
    "plt.scatter(X[:, 0], X[:, 1], c=y_kmeans, s=50, cmap='viridis')\n",
    "plt.scatter(kmeans.cluster_centers_[:, 0], kmeans.cluster_centers_[:, 1], c='red', s=200, alpha=0.75, label='Centroides')\n",
    "plt.legend()\n",
    "plt.title(\"Clusters obtenidos con K-means\")\n",
    "plt.show()\n"
   ]
  },
  {
   "cell_type": "markdown",
   "metadata": {},
   "source": [
    "# METRICAS"
   ]
  },
  {
   "cell_type": "markdown",
   "metadata": {},
   "source": [
    "Score de Silhouette\n",
    "\n",
    "El Score de Silhouette mide qué tan similares son los puntos dentro del mismo cluster en comparación con otros clusters."
   ]
  },
  {
   "cell_type": "code",
   "execution_count": null,
   "metadata": {},
   "outputs": [],
   "source": [
    "silhouette_avg = silhouette_score(X, y_kmeans)\n",
    "print(f\"Score de Silhouette: {silhouette_avg:.2f}\")\n"
   ]
  },
  {
   "cell_type": "markdown",
   "metadata": {},
   "source": [
    "Índice de Rand\n",
    "\n",
    "El Índice de Rand (RI) mide la similitud entre las etiquetas reales y las etiquetas predichas."
   ]
  },
  {
   "cell_type": "code",
   "execution_count": null,
   "metadata": {},
   "outputs": [],
   "source": [
    "rand_index = adjusted_rand_score(y_true, y_kmeans)\n",
    "print(f\"Índice de Rand: {rand_index:.2f}\")\n"
   ]
  },
  {
   "cell_type": "markdown",
   "metadata": {},
   "source": [
    "Índice de Rand Ajustado\n",
    "\n",
    "El Índice de Rand Ajustado (ARI) ajusta el RI para evitar resultados inflados debido al azar."
   ]
  },
  {
   "cell_type": "code",
   "execution_count": null,
   "metadata": {},
   "outputs": [],
   "source": [
    "adjusted_rand_index = adjusted_rand_score(y_true, y_kmeans)\n",
    "print(f\"Índice de Rand Ajustado: {adjusted_rand_index:.2f}\")\n"
   ]
  },
  {
   "cell_type": "markdown",
   "metadata": {},
   "source": [
    "Criterio de Información Mutua\n",
    "\n",
    "El Criterio de Información Mutua (NMI) mide la cantidad de información compartida entre las etiquetas verdaderas y las predichas."
   ]
  },
  {
   "cell_type": "code",
   "execution_count": null,
   "metadata": {},
   "outputs": [],
   "source": [
    "mutual_info = normalized_mutual_info_score(y_true, y_kmeans)\n",
    "print(f\"Criterio de Información Mutua: {mutual_info:.2f}\")\n"
   ]
  },
  {
   "cell_type": "markdown",
   "metadata": {},
   "source": [
    "Índice de Calinski-Harabasz\n",
    "\n",
    "El Índice de Calinski-Harabasz (CH) mide la compacidad y separación entre clusters. Valores altos indican clusters bien definidos."
   ]
  },
  {
   "cell_type": "code",
   "execution_count": null,
   "metadata": {},
   "outputs": [],
   "source": [
    "calinski_harabasz = calinski_harabasz_score(X, y_kmeans)\n",
    "print(f\"Índice de Calinski-Harabasz: {calinski_harabasz:.2f}\")\n"
   ]
  },
  {
   "cell_type": "markdown",
   "metadata": {},
   "source": [
    "Índice de Davies-Bouldin\n",
    "\n",
    "El Índice de Davies-Bouldin (DB) mide la relación entre la dispersión dentro del cluster y la distancia entre clusters. Valores bajos son mejores."
   ]
  },
  {
   "cell_type": "code",
   "execution_count": null,
   "metadata": {},
   "outputs": [],
   "source": [
    "\n",
    "davies_bouldin = davies_bouldin_score(X, y_kmeans)\n",
    "print(f\"Índice de Davies-Bouldin: {davies_bouldin:.2f}\")\n"
   ]
  },
  {
   "cell_type": "markdown",
   "metadata": {},
   "source": [
    "---"
   ]
  }
 ],
 "metadata": {
  "language_info": {
   "name": "python"
  }
 },
 "nbformat": 4,
 "nbformat_minor": 2
}
