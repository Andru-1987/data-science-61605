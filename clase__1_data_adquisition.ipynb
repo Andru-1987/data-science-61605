{
  "cells": [
    {
      "cell_type": "code",
      "execution_count": 63,
      "metadata": {
        "id": "Sc17Lo8rv-C7"
      },
      "outputs": [],
      "source": [
        "import pandas as pd\n",
        "import io\n",
        "import seaborn as sns"
      ]
    },
    {
      "cell_type": "code",
      "execution_count": 64,
      "metadata": {
        "colab": {
          "base_uri": "https://localhost:8080/"
        },
        "id": "0E-ohLOXBhA3",
        "outputId": "10173eae-b93b-4411-956c-30444653bcd3"
      },
      "outputs": [],
      "source": [
        "# from google.colab import drive\n",
        "# import os\n",
        "\n",
        "# drive.mount('/content/drive/')\n"
      ]
    },
    {
      "cell_type": "code",
      "execution_count": 65,
      "metadata": {
        "colab": {
          "base_uri": "https://localhost:8080/"
        },
        "id": "4KwLihxLBnCE",
        "outputId": "a29eedf2-0c49-4e1f-b407-1bd9213888da"
      },
      "outputs": [],
      "source": [
        "# Lista los archivos y carpetas en el directorio\n",
        "\n",
        "#Además creo una carpeta que se llame Datasets, allí es donde voy a dejar el .csv\n",
        "# files = os.listdir(\"/content/drive/MyDrive/Datasets\")\n",
        "# files\n",
        "\n",
        "file_path = \"parquet-datasets/dnrpa-prendas-autos-202408.parquet\""
      ]
    },
    {
      "cell_type": "code",
      "execution_count": 66,
      "metadata": {
        "colab": {
          "base_uri": "https://localhost:8080/",
          "height": 602
        },
        "id": "q9SLyhX3Bpjk",
        "outputId": "77f4f611-afbe-4db0-a88f-2498eeb30f8a"
      },
      "outputs": [
        {
          "data": {
            "text/html": [
              "<div>\n",
              "<style scoped>\n",
              "    .dataframe tbody tr th:only-of-type {\n",
              "        vertical-align: middle;\n",
              "    }\n",
              "\n",
              "    .dataframe tbody tr th {\n",
              "        vertical-align: top;\n",
              "    }\n",
              "\n",
              "    .dataframe thead th {\n",
              "        text-align: right;\n",
              "    }\n",
              "</style>\n",
              "<table border=\"1\" class=\"dataframe\">\n",
              "  <thead>\n",
              "    <tr style=\"text-align: right;\">\n",
              "      <th></th>\n",
              "      <th>tramite_tipo</th>\n",
              "      <th>tramite_fecha</th>\n",
              "      <th>fecha_inscripcion_inicial</th>\n",
              "      <th>registro_seccional_codigo</th>\n",
              "      <th>registro_seccional_descripcion</th>\n",
              "      <th>registro_seccional_provincia</th>\n",
              "      <th>automotor_origen</th>\n",
              "      <th>automotor_anio_modelo</th>\n",
              "      <th>automotor_tipo_codigo</th>\n",
              "      <th>automotor_tipo_descripcion</th>\n",
              "      <th>...</th>\n",
              "      <th>automotor_uso_descripcion</th>\n",
              "      <th>titular_tipo_persona</th>\n",
              "      <th>titular_domicilio_localidad</th>\n",
              "      <th>titular_domicilio_provincia</th>\n",
              "      <th>titular_genero</th>\n",
              "      <th>titular_anio_nacimiento</th>\n",
              "      <th>titular_pais_nacimiento</th>\n",
              "      <th>titular_porcentaje_titularidad</th>\n",
              "      <th>titular_domicilio_provincia_id</th>\n",
              "      <th>titular_pais_nacimiento_id</th>\n",
              "    </tr>\n",
              "  </thead>\n",
              "  <tbody>\n",
              "    <tr>\n",
              "      <th>0</th>\n",
              "      <td>PRENDA - INSCRIPCION</td>\n",
              "      <td>2024-08-13</td>\n",
              "      <td>1998-06-19</td>\n",
              "      <td>21001</td>\n",
              "      <td>ALCORTA</td>\n",
              "      <td>Santa Fe</td>\n",
              "      <td>Protocolo 21</td>\n",
              "      <td>1998.0</td>\n",
              "      <td>None</td>\n",
              "      <td>CAMION C/ CAJA ABIERTA VOL</td>\n",
              "      <td>...</td>\n",
              "      <td>Privado</td>\n",
              "      <td>Física</td>\n",
              "      <td>ALCORTA</td>\n",
              "      <td>SANTA FE</td>\n",
              "      <td>No identificado</td>\n",
              "      <td>1969.0</td>\n",
              "      <td>ARGENTINA</td>\n",
              "      <td>100</td>\n",
              "      <td>82</td>\n",
              "      <td>ARG</td>\n",
              "    </tr>\n",
              "    <tr>\n",
              "      <th>1</th>\n",
              "      <td>PRENDA - INSCRIPCION</td>\n",
              "      <td>2024-08-19</td>\n",
              "      <td>1997-10-30</td>\n",
              "      <td>21040</td>\n",
              "      <td>SAN CARLOS CENTRO</td>\n",
              "      <td>Santa Fe</td>\n",
              "      <td>Nacional</td>\n",
              "      <td>1997.0</td>\n",
              "      <td>None</td>\n",
              "      <td>BERLINA 3 PTAS</td>\n",
              "      <td>...</td>\n",
              "      <td>Privado</td>\n",
              "      <td>Física</td>\n",
              "      <td>GALVEZ</td>\n",
              "      <td>SANTA FE</td>\n",
              "      <td>Masculino</td>\n",
              "      <td>1989.0</td>\n",
              "      <td>ARGENTINA</td>\n",
              "      <td>100</td>\n",
              "      <td>82</td>\n",
              "      <td>ARG</td>\n",
              "    </tr>\n",
              "    <tr>\n",
              "      <th>2</th>\n",
              "      <td>PRENDA - INSCRIPCION</td>\n",
              "      <td>2024-08-05</td>\n",
              "      <td>2009-02-27</td>\n",
              "      <td>21058</td>\n",
              "      <td>ROSARIO Nº 15</td>\n",
              "      <td>Santa Fe</td>\n",
              "      <td>Nacional</td>\n",
              "      <td>2009.0</td>\n",
              "      <td>None</td>\n",
              "      <td>RURAL 5 PTAS</td>\n",
              "      <td>...</td>\n",
              "      <td>Privado</td>\n",
              "      <td>Física</td>\n",
              "      <td>ROSARIO</td>\n",
              "      <td>SANTA FE</td>\n",
              "      <td>Masculino</td>\n",
              "      <td>1985.0</td>\n",
              "      <td>ARGENTINA</td>\n",
              "      <td>100</td>\n",
              "      <td>82</td>\n",
              "      <td>ARG</td>\n",
              "    </tr>\n",
              "    <tr>\n",
              "      <th>3</th>\n",
              "      <td>PRENDA - INSCRIPCION</td>\n",
              "      <td>2024-08-21</td>\n",
              "      <td>1995-08-04</td>\n",
              "      <td>13005</td>\n",
              "      <td>TUNUYAN</td>\n",
              "      <td>Mendoza</td>\n",
              "      <td>Nacional</td>\n",
              "      <td>1995.0</td>\n",
              "      <td>None</td>\n",
              "      <td>TRANSPORTE DE CARGA</td>\n",
              "      <td>...</td>\n",
              "      <td>Privado</td>\n",
              "      <td>Física</td>\n",
              "      <td>EUGENIO BUSTOS-SAN CARLOS</td>\n",
              "      <td>MENDOZA</td>\n",
              "      <td>Femenino</td>\n",
              "      <td>1975.0</td>\n",
              "      <td>ARGENTINA</td>\n",
              "      <td>100</td>\n",
              "      <td>50</td>\n",
              "      <td>ARG</td>\n",
              "    </tr>\n",
              "    <tr>\n",
              "      <th>4</th>\n",
              "      <td>PRENDA - INSCRIPCION</td>\n",
              "      <td>2024-08-21</td>\n",
              "      <td>2000-05-26</td>\n",
              "      <td>4052</td>\n",
              "      <td>JUSTINIANO POSSE</td>\n",
              "      <td>Córdoba</td>\n",
              "      <td>Nacional</td>\n",
              "      <td>2000.0</td>\n",
              "      <td>None</td>\n",
              "      <td>CAMION TRACTOR</td>\n",
              "      <td>...</td>\n",
              "      <td>Privado</td>\n",
              "      <td>Jurídica</td>\n",
              "      <td>WENCESLAO ESCALANTE</td>\n",
              "      <td>CORDOBA</td>\n",
              "      <td>No aplica</td>\n",
              "      <td>2016.0</td>\n",
              "      <td>No aplica</td>\n",
              "      <td>100</td>\n",
              "      <td>14</td>\n",
              "      <td>None</td>\n",
              "    </tr>\n",
              "  </tbody>\n",
              "</table>\n",
              "<p>5 rows × 25 columns</p>\n",
              "</div>"
            ],
            "text/plain": [
              "           tramite_tipo tramite_fecha fecha_inscripcion_inicial  \\\n",
              "0  PRENDA - INSCRIPCION    2024-08-13                1998-06-19   \n",
              "1  PRENDA - INSCRIPCION    2024-08-19                1997-10-30   \n",
              "2  PRENDA - INSCRIPCION    2024-08-05                2009-02-27   \n",
              "3  PRENDA - INSCRIPCION    2024-08-21                1995-08-04   \n",
              "4  PRENDA - INSCRIPCION    2024-08-21                2000-05-26   \n",
              "\n",
              "  registro_seccional_codigo registro_seccional_descripcion  \\\n",
              "0                     21001                        ALCORTA   \n",
              "1                     21040              SAN CARLOS CENTRO   \n",
              "2                     21058                  ROSARIO Nº 15   \n",
              "3                     13005                        TUNUYAN   \n",
              "4                      4052               JUSTINIANO POSSE   \n",
              "\n",
              "  registro_seccional_provincia automotor_origen automotor_anio_modelo  \\\n",
              "0                     Santa Fe     Protocolo 21                1998.0   \n",
              "1                     Santa Fe         Nacional                1997.0   \n",
              "2                     Santa Fe         Nacional                2009.0   \n",
              "3                      Mendoza         Nacional                1995.0   \n",
              "4                      Córdoba         Nacional                2000.0   \n",
              "\n",
              "  automotor_tipo_codigo  automotor_tipo_descripcion  ...  \\\n",
              "0                  None  CAMION C/ CAJA ABIERTA VOL  ...   \n",
              "1                  None              BERLINA 3 PTAS  ...   \n",
              "2                  None                RURAL 5 PTAS  ...   \n",
              "3                  None         TRANSPORTE DE CARGA  ...   \n",
              "4                  None              CAMION TRACTOR  ...   \n",
              "\n",
              "  automotor_uso_descripcion titular_tipo_persona titular_domicilio_localidad  \\\n",
              "0                   Privado               Física                     ALCORTA   \n",
              "1                   Privado               Física                      GALVEZ   \n",
              "2                   Privado               Física                     ROSARIO   \n",
              "3                   Privado               Física   EUGENIO BUSTOS-SAN CARLOS   \n",
              "4                   Privado             Jurídica         WENCESLAO ESCALANTE   \n",
              "\n",
              "  titular_domicilio_provincia   titular_genero titular_anio_nacimiento  \\\n",
              "0                    SANTA FE  No identificado                  1969.0   \n",
              "1                    SANTA FE        Masculino                  1989.0   \n",
              "2                    SANTA FE        Masculino                  1985.0   \n",
              "3                     MENDOZA         Femenino                  1975.0   \n",
              "4                     CORDOBA        No aplica                  2016.0   \n",
              "\n",
              "  titular_pais_nacimiento titular_porcentaje_titularidad  \\\n",
              "0               ARGENTINA                            100   \n",
              "1               ARGENTINA                            100   \n",
              "2               ARGENTINA                            100   \n",
              "3               ARGENTINA                            100   \n",
              "4               No aplica                            100   \n",
              "\n",
              "  titular_domicilio_provincia_id titular_pais_nacimiento_id  \n",
              "0                             82                        ARG  \n",
              "1                             82                        ARG  \n",
              "2                             82                        ARG  \n",
              "3                             50                        ARG  \n",
              "4                             14                       None  \n",
              "\n",
              "[5 rows x 25 columns]"
            ]
          },
          "execution_count": 66,
          "metadata": {},
          "output_type": "execute_result"
        }
      ],
      "source": [
        "# file_path = '/content/drive/MyDrive/Datasets/dnrpa-robos-recuperos-autos-202201.csv'\n",
        "\n",
        "# dtype={\"registro_seccional_codigo\":\"str\"}\n",
        "\n",
        "# df = pd.read_csv(file_path, sep=\",\", dtype=str)\n",
        "df = pd.read_parquet(file_path, engine='fastparquet')\n",
        "df = df.astype(str)\n",
        "df.head()"
      ]
    },
    {
      "cell_type": "code",
      "execution_count": 67,
      "metadata": {
        "colab": {
          "base_uri": "https://localhost:8080/"
        },
        "id": "1fKcEscoCrDF",
        "outputId": "bff8abfa-0458-4083-a6d0-494f1681ac46"
      },
      "outputs": [
        {
          "name": "stdout",
          "output_type": "stream",
          "text": [
            "<class 'pandas.core.frame.DataFrame'>\n",
            "RangeIndex: 31137 entries, 0 to 31136\n",
            "Data columns (total 25 columns):\n",
            " #   Column                          Non-Null Count  Dtype \n",
            "---  ------                          --------------  ----- \n",
            " 0   tramite_tipo                    31137 non-null  object\n",
            " 1   tramite_fecha                   31137 non-null  object\n",
            " 2   fecha_inscripcion_inicial       31137 non-null  object\n",
            " 3   registro_seccional_codigo       31137 non-null  object\n",
            " 4   registro_seccional_descripcion  31137 non-null  object\n",
            " 5   registro_seccional_provincia    31137 non-null  object\n",
            " 6   automotor_origen                31137 non-null  object\n",
            " 7   automotor_anio_modelo           31137 non-null  object\n",
            " 8   automotor_tipo_codigo           31137 non-null  object\n",
            " 9   automotor_tipo_descripcion      31137 non-null  object\n",
            " 10  automotor_marca_codigo          31137 non-null  object\n",
            " 11  automotor_marca_descripcion     31137 non-null  object\n",
            " 12  automotor_modelo_codigo         31137 non-null  object\n",
            " 13  automotor_modelo_descripcion    31137 non-null  object\n",
            " 14  automotor_uso_codigo            31137 non-null  object\n",
            " 15  automotor_uso_descripcion       31137 non-null  object\n",
            " 16  titular_tipo_persona            31137 non-null  object\n",
            " 17  titular_domicilio_localidad     31137 non-null  object\n",
            " 18  titular_domicilio_provincia     31137 non-null  object\n",
            " 19  titular_genero                  31137 non-null  object\n",
            " 20  titular_anio_nacimiento         31137 non-null  object\n",
            " 21  titular_pais_nacimiento         31137 non-null  object\n",
            " 22  titular_porcentaje_titularidad  31137 non-null  object\n",
            " 23  titular_domicilio_provincia_id  31137 non-null  object\n",
            " 24  titular_pais_nacimiento_id      31137 non-null  object\n",
            "dtypes: object(25)\n",
            "memory usage: 5.9+ MB\n"
          ]
        }
      ],
      "source": [
        "df.info()"
      ]
    },
    {
      "cell_type": "code",
      "execution_count": 68,
      "metadata": {
        "colab": {
          "base_uri": "https://localhost:8080/",
          "height": 602
        },
        "id": "b_uz3B4Zagwz",
        "outputId": "459976b7-03c0-4fa4-9edd-bbac6624c7c2"
      },
      "outputs": [
        {
          "data": {
            "text/html": [
              "<div>\n",
              "<style scoped>\n",
              "    .dataframe tbody tr th:only-of-type {\n",
              "        vertical-align: middle;\n",
              "    }\n",
              "\n",
              "    .dataframe tbody tr th {\n",
              "        vertical-align: top;\n",
              "    }\n",
              "\n",
              "    .dataframe thead th {\n",
              "        text-align: right;\n",
              "    }\n",
              "</style>\n",
              "<table border=\"1\" class=\"dataframe\">\n",
              "  <thead>\n",
              "    <tr style=\"text-align: right;\">\n",
              "      <th></th>\n",
              "      <th>tramite_tipo</th>\n",
              "      <th>tramite_fecha</th>\n",
              "      <th>fecha_inscripcion_inicial</th>\n",
              "      <th>registro_seccional_codigo</th>\n",
              "      <th>registro_seccional_descripcion</th>\n",
              "      <th>registro_seccional_provincia</th>\n",
              "      <th>automotor_origen</th>\n",
              "      <th>automotor_anio_modelo</th>\n",
              "      <th>automotor_tipo_codigo</th>\n",
              "      <th>automotor_tipo_descripcion</th>\n",
              "      <th>...</th>\n",
              "      <th>automotor_uso_descripcion</th>\n",
              "      <th>titular_tipo_persona</th>\n",
              "      <th>titular_domicilio_localidad</th>\n",
              "      <th>titular_domicilio_provincia</th>\n",
              "      <th>titular_genero</th>\n",
              "      <th>titular_anio_nacimiento</th>\n",
              "      <th>titular_pais_nacimiento</th>\n",
              "      <th>titular_porcentaje_titularidad</th>\n",
              "      <th>titular_domicilio_provincia_id</th>\n",
              "      <th>titular_pais_nacimiento_id</th>\n",
              "    </tr>\n",
              "  </thead>\n",
              "  <tbody>\n",
              "    <tr>\n",
              "      <th>0</th>\n",
              "      <td>PRENDA - INSCRIPCION</td>\n",
              "      <td>2024-08-13</td>\n",
              "      <td>1998-06-19</td>\n",
              "      <td>21001</td>\n",
              "      <td>ALCORTA</td>\n",
              "      <td>Santa Fe</td>\n",
              "      <td>Protocolo 21</td>\n",
              "      <td>1998.0</td>\n",
              "      <td>None</td>\n",
              "      <td>CAMION C/ CAJA ABIERTA VOL</td>\n",
              "      <td>...</td>\n",
              "      <td>Privado</td>\n",
              "      <td>Física</td>\n",
              "      <td>ALCORTA</td>\n",
              "      <td>SANTA FE</td>\n",
              "      <td>No identificado</td>\n",
              "      <td>1969.0</td>\n",
              "      <td>ARGENTINA</td>\n",
              "      <td>100</td>\n",
              "      <td>82</td>\n",
              "      <td>ARG</td>\n",
              "    </tr>\n",
              "    <tr>\n",
              "      <th>2</th>\n",
              "      <td>PRENDA - INSCRIPCION</td>\n",
              "      <td>2024-08-05</td>\n",
              "      <td>2009-02-27</td>\n",
              "      <td>21058</td>\n",
              "      <td>ROSARIO Nº 15</td>\n",
              "      <td>Santa Fe</td>\n",
              "      <td>Nacional</td>\n",
              "      <td>2009.0</td>\n",
              "      <td>None</td>\n",
              "      <td>RURAL 5 PTAS</td>\n",
              "      <td>...</td>\n",
              "      <td>Privado</td>\n",
              "      <td>Física</td>\n",
              "      <td>ROSARIO</td>\n",
              "      <td>SANTA FE</td>\n",
              "      <td>Masculino</td>\n",
              "      <td>1985.0</td>\n",
              "      <td>ARGENTINA</td>\n",
              "      <td>100</td>\n",
              "      <td>82</td>\n",
              "      <td>ARG</td>\n",
              "    </tr>\n",
              "    <tr>\n",
              "      <th>4</th>\n",
              "      <td>PRENDA - INSCRIPCION</td>\n",
              "      <td>2024-08-21</td>\n",
              "      <td>2000-05-26</td>\n",
              "      <td>4052</td>\n",
              "      <td>JUSTINIANO POSSE</td>\n",
              "      <td>Córdoba</td>\n",
              "      <td>Nacional</td>\n",
              "      <td>2000.0</td>\n",
              "      <td>None</td>\n",
              "      <td>CAMION TRACTOR</td>\n",
              "      <td>...</td>\n",
              "      <td>Privado</td>\n",
              "      <td>Jurídica</td>\n",
              "      <td>WENCESLAO ESCALANTE</td>\n",
              "      <td>CORDOBA</td>\n",
              "      <td>No aplica</td>\n",
              "      <td>2016.0</td>\n",
              "      <td>No aplica</td>\n",
              "      <td>100</td>\n",
              "      <td>14</td>\n",
              "      <td>None</td>\n",
              "    </tr>\n",
              "    <tr>\n",
              "      <th>5</th>\n",
              "      <td>PRENDA - INSCRIPCION</td>\n",
              "      <td>2024-08-13</td>\n",
              "      <td>1995-04-24</td>\n",
              "      <td>4019</td>\n",
              "      <td>LA CARLOTA</td>\n",
              "      <td>Córdoba</td>\n",
              "      <td>Nacional</td>\n",
              "      <td>1995.0</td>\n",
              "      <td>None</td>\n",
              "      <td>CHASIS C/ CABINA P/ CAMIÓN</td>\n",
              "      <td>...</td>\n",
              "      <td>Privado</td>\n",
              "      <td>Física</td>\n",
              "      <td>REDUCCIÓN</td>\n",
              "      <td>CORDOBA</td>\n",
              "      <td>Masculino</td>\n",
              "      <td>1985.0</td>\n",
              "      <td>ARGENTINA</td>\n",
              "      <td>100</td>\n",
              "      <td>14</td>\n",
              "      <td>ARG</td>\n",
              "    </tr>\n",
              "    <tr>\n",
              "      <th>6</th>\n",
              "      <td>PRENDA - INSCRIPCION</td>\n",
              "      <td>2024-08-02</td>\n",
              "      <td>2011-05-27</td>\n",
              "      <td>4043</td>\n",
              "      <td>VILLA MARIA Nº 2</td>\n",
              "      <td>Córdoba</td>\n",
              "      <td>Nacional</td>\n",
              "      <td>2011.0</td>\n",
              "      <td>None</td>\n",
              "      <td>FURGON 800</td>\n",
              "      <td>...</td>\n",
              "      <td>Privado</td>\n",
              "      <td>Física</td>\n",
              "      <td>VILLA MARIA</td>\n",
              "      <td>CORDOBA</td>\n",
              "      <td>Femenino</td>\n",
              "      <td>1987.0</td>\n",
              "      <td>ARGENTINA</td>\n",
              "      <td>100</td>\n",
              "      <td>14</td>\n",
              "      <td>ARG</td>\n",
              "    </tr>\n",
              "  </tbody>\n",
              "</table>\n",
              "<p>5 rows × 25 columns</p>\n",
              "</div>"
            ],
            "text/plain": [
              "           tramite_tipo tramite_fecha fecha_inscripcion_inicial  \\\n",
              "0  PRENDA - INSCRIPCION    2024-08-13                1998-06-19   \n",
              "2  PRENDA - INSCRIPCION    2024-08-05                2009-02-27   \n",
              "4  PRENDA - INSCRIPCION    2024-08-21                2000-05-26   \n",
              "5  PRENDA - INSCRIPCION    2024-08-13                1995-04-24   \n",
              "6  PRENDA - INSCRIPCION    2024-08-02                2011-05-27   \n",
              "\n",
              "   registro_seccional_codigo registro_seccional_descripcion  \\\n",
              "0                      21001                        ALCORTA   \n",
              "2                      21058                  ROSARIO Nº 15   \n",
              "4                       4052               JUSTINIANO POSSE   \n",
              "5                       4019                     LA CARLOTA   \n",
              "6                       4043               VILLA MARIA Nº 2   \n",
              "\n",
              "  registro_seccional_provincia automotor_origen  automotor_anio_modelo  \\\n",
              "0                     Santa Fe     Protocolo 21                 1998.0   \n",
              "2                     Santa Fe         Nacional                 2009.0   \n",
              "4                      Córdoba         Nacional                 2000.0   \n",
              "5                      Córdoba         Nacional                 1995.0   \n",
              "6                      Córdoba         Nacional                 2011.0   \n",
              "\n",
              "  automotor_tipo_codigo  automotor_tipo_descripcion  ...  \\\n",
              "0                  None  CAMION C/ CAJA ABIERTA VOL  ...   \n",
              "2                  None                RURAL 5 PTAS  ...   \n",
              "4                  None              CAMION TRACTOR  ...   \n",
              "5                  None  CHASIS C/ CABINA P/ CAMIÓN  ...   \n",
              "6                  None                  FURGON 800  ...   \n",
              "\n",
              "  automotor_uso_descripcion titular_tipo_persona titular_domicilio_localidad  \\\n",
              "0                   Privado               Física                     ALCORTA   \n",
              "2                   Privado               Física                     ROSARIO   \n",
              "4                   Privado             Jurídica         WENCESLAO ESCALANTE   \n",
              "5                   Privado               Física                   REDUCCIÓN   \n",
              "6                   Privado               Física                 VILLA MARIA   \n",
              "\n",
              "  titular_domicilio_provincia   titular_genero titular_anio_nacimiento  \\\n",
              "0                    SANTA FE  No identificado                  1969.0   \n",
              "2                    SANTA FE        Masculino                  1985.0   \n",
              "4                     CORDOBA        No aplica                  2016.0   \n",
              "5                     CORDOBA        Masculino                  1985.0   \n",
              "6                     CORDOBA         Femenino                  1987.0   \n",
              "\n",
              "  titular_pais_nacimiento titular_porcentaje_titularidad  \\\n",
              "0               ARGENTINA                            100   \n",
              "2               ARGENTINA                            100   \n",
              "4               No aplica                            100   \n",
              "5               ARGENTINA                            100   \n",
              "6               ARGENTINA                            100   \n",
              "\n",
              "  titular_domicilio_provincia_id titular_pais_nacimiento_id  \n",
              "0                             82                        ARG  \n",
              "2                             82                        ARG  \n",
              "4                             14                       None  \n",
              "5                             14                        ARG  \n",
              "6                             14                        ARG  \n",
              "\n",
              "[5 rows x 25 columns]"
            ]
          },
          "execution_count": 68,
          "metadata": {},
          "output_type": "execute_result"
        }
      ],
      "source": [
        "# Omitir la primera y tercera fila del archivo CSV\n",
        "\n",
        "\n",
        "# df2 = pd.read_csv(file_path, sep=\",\", skiprows=[1,3])\n",
        "df2 = pd.read_parquet(file_path, engine='fastparquet')\n",
        "df2 = df2.drop([1, 3])\n",
        "df2.head()"
      ]
    },
    {
      "cell_type": "code",
      "execution_count": 69,
      "metadata": {
        "colab": {
          "base_uri": "https://localhost:8080/",
          "height": 300
        },
        "id": "yKTGXVevagw0",
        "outputId": "00cf225e-5f64-49bc-e6a7-f1cc4e62fc51"
      },
      "outputs": [
        {
          "data": {
            "text/html": [
              "<div>\n",
              "<style scoped>\n",
              "    .dataframe tbody tr th:only-of-type {\n",
              "        vertical-align: middle;\n",
              "    }\n",
              "\n",
              "    .dataframe tbody tr th {\n",
              "        vertical-align: top;\n",
              "    }\n",
              "\n",
              "    .dataframe thead th {\n",
              "        text-align: right;\n",
              "    }\n",
              "</style>\n",
              "<table border=\"1\" class=\"dataframe\">\n",
              "  <thead>\n",
              "    <tr style=\"text-align: right;\">\n",
              "      <th></th>\n",
              "      <th>tramite_tipo</th>\n",
              "      <th>tramite_fecha</th>\n",
              "      <th>fecha_inscripcion_inicial</th>\n",
              "      <th>registro_seccional_codigo</th>\n",
              "      <th>registro_seccional_descripcion</th>\n",
              "      <th>registro_seccional_provincia</th>\n",
              "      <th>automotor_origen</th>\n",
              "      <th>automotor_anio_modelo</th>\n",
              "      <th>automotor_tipo_codigo</th>\n",
              "      <th>automotor_tipo_descripcion</th>\n",
              "      <th>...</th>\n",
              "      <th>automotor_uso_descripcion</th>\n",
              "      <th>titular_tipo_persona</th>\n",
              "      <th>titular_domicilio_localidad</th>\n",
              "      <th>titular_domicilio_provincia</th>\n",
              "      <th>titular_genero</th>\n",
              "      <th>titular_anio_nacimiento</th>\n",
              "      <th>titular_pais_nacimiento</th>\n",
              "      <th>titular_porcentaje_titularidad</th>\n",
              "      <th>titular_domicilio_provincia_id</th>\n",
              "      <th>titular_pais_nacimiento_id</th>\n",
              "    </tr>\n",
              "  </thead>\n",
              "  <tbody>\n",
              "    <tr>\n",
              "      <th>0</th>\n",
              "      <td>PRENDA - INSCRIPCION</td>\n",
              "      <td>2024-08-13</td>\n",
              "      <td>1998-06-19</td>\n",
              "      <td>21001</td>\n",
              "      <td>ALCORTA</td>\n",
              "      <td>Santa Fe</td>\n",
              "      <td>Protocolo 21</td>\n",
              "      <td>1998.0</td>\n",
              "      <td>None</td>\n",
              "      <td>CAMION C/ CAJA ABIERTA VOL</td>\n",
              "      <td>...</td>\n",
              "      <td>Privado</td>\n",
              "      <td>Física</td>\n",
              "      <td>ALCORTA</td>\n",
              "      <td>SANTA FE</td>\n",
              "      <td>No identificado</td>\n",
              "      <td>1969.0</td>\n",
              "      <td>ARGENTINA</td>\n",
              "      <td>100</td>\n",
              "      <td>82</td>\n",
              "      <td>ARG</td>\n",
              "    </tr>\n",
              "    <tr>\n",
              "      <th>1</th>\n",
              "      <td>PRENDA - INSCRIPCION</td>\n",
              "      <td>2024-08-19</td>\n",
              "      <td>1997-10-30</td>\n",
              "      <td>21040</td>\n",
              "      <td>SAN CARLOS CENTRO</td>\n",
              "      <td>Santa Fe</td>\n",
              "      <td>Nacional</td>\n",
              "      <td>1997.0</td>\n",
              "      <td>None</td>\n",
              "      <td>BERLINA 3 PTAS</td>\n",
              "      <td>...</td>\n",
              "      <td>Privado</td>\n",
              "      <td>Física</td>\n",
              "      <td>GALVEZ</td>\n",
              "      <td>SANTA FE</td>\n",
              "      <td>Masculino</td>\n",
              "      <td>1989.0</td>\n",
              "      <td>ARGENTINA</td>\n",
              "      <td>100</td>\n",
              "      <td>82</td>\n",
              "      <td>ARG</td>\n",
              "    </tr>\n",
              "  </tbody>\n",
              "</table>\n",
              "<p>2 rows × 25 columns</p>\n",
              "</div>"
            ],
            "text/plain": [
              "           tramite_tipo tramite_fecha fecha_inscripcion_inicial  \\\n",
              "0  PRENDA - INSCRIPCION    2024-08-13                1998-06-19   \n",
              "1  PRENDA - INSCRIPCION    2024-08-19                1997-10-30   \n",
              "\n",
              "   registro_seccional_codigo registro_seccional_descripcion  \\\n",
              "0                      21001                        ALCORTA   \n",
              "1                      21040              SAN CARLOS CENTRO   \n",
              "\n",
              "  registro_seccional_provincia automotor_origen  automotor_anio_modelo  \\\n",
              "0                     Santa Fe     Protocolo 21                 1998.0   \n",
              "1                     Santa Fe         Nacional                 1997.0   \n",
              "\n",
              "  automotor_tipo_codigo  automotor_tipo_descripcion  ...  \\\n",
              "0                  None  CAMION C/ CAJA ABIERTA VOL  ...   \n",
              "1                  None              BERLINA 3 PTAS  ...   \n",
              "\n",
              "  automotor_uso_descripcion titular_tipo_persona titular_domicilio_localidad  \\\n",
              "0                   Privado               Física                     ALCORTA   \n",
              "1                   Privado               Física                      GALVEZ   \n",
              "\n",
              "  titular_domicilio_provincia   titular_genero titular_anio_nacimiento  \\\n",
              "0                    SANTA FE  No identificado                  1969.0   \n",
              "1                    SANTA FE        Masculino                  1989.0   \n",
              "\n",
              "  titular_pais_nacimiento titular_porcentaje_titularidad  \\\n",
              "0               ARGENTINA                            100   \n",
              "1               ARGENTINA                            100   \n",
              "\n",
              "  titular_domicilio_provincia_id titular_pais_nacimiento_id  \n",
              "0                             82                        ARG  \n",
              "1                             82                        ARG  \n",
              "\n",
              "[2 rows x 25 columns]"
            ]
          },
          "execution_count": 69,
          "metadata": {},
          "output_type": "execute_result"
        }
      ],
      "source": [
        "# nos quedamos con 2 filas\n",
        "df2 = pd.read_parquet(file_path, engine='fastparquet')\n",
        "df2 = df2.head(2)\n",
        "\n",
        "df2.head()"
      ]
    },
    {
      "cell_type": "code",
      "execution_count": 70,
      "metadata": {
        "colab": {
          "base_uri": "https://localhost:8080/"
        },
        "id": "2gtYtMwq_nMT",
        "outputId": "507e71a6-d922-4795-b313-6d68279766fa"
      },
      "outputs": [
        {
          "data": {
            "text/plain": [
              "2"
            ]
          },
          "execution_count": 70,
          "metadata": {},
          "output_type": "execute_result"
        }
      ],
      "source": [
        "len(df2)"
      ]
    },
    {
      "cell_type": "code",
      "execution_count": 71,
      "metadata": {
        "colab": {
          "base_uri": "https://localhost:8080/"
        },
        "id": "zd2rNuPqwnK4",
        "outputId": "a5e4196d-4efe-47cf-cb96-1fa439f66bbf"
      },
      "outputs": [
        {
          "data": {
            "text/plain": [
              "(31137, 25)"
            ]
          },
          "execution_count": 71,
          "metadata": {},
          "output_type": "execute_result"
        }
      ],
      "source": [
        "df.shape"
      ]
    },
    {
      "cell_type": "code",
      "execution_count": 72,
      "metadata": {
        "colab": {
          "base_uri": "https://localhost:8080/"
        },
        "id": "kgVVsfpow2En",
        "outputId": "4921b5d6-3ea8-4267-e9e7-4e84a227c686"
      },
      "outputs": [
        {
          "name": "stdout",
          "output_type": "stream",
          "text": [
            "<class 'pandas.core.frame.DataFrame'>\n",
            "RangeIndex: 31137 entries, 0 to 31136\n",
            "Data columns (total 25 columns):\n",
            " #   Column                          Non-Null Count  Dtype \n",
            "---  ------                          --------------  ----- \n",
            " 0   tramite_tipo                    31137 non-null  object\n",
            " 1   tramite_fecha                   31137 non-null  object\n",
            " 2   fecha_inscripcion_inicial       31137 non-null  object\n",
            " 3   registro_seccional_codigo       31137 non-null  object\n",
            " 4   registro_seccional_descripcion  31137 non-null  object\n",
            " 5   registro_seccional_provincia    31137 non-null  object\n",
            " 6   automotor_origen                31137 non-null  object\n",
            " 7   automotor_anio_modelo           31137 non-null  object\n",
            " 8   automotor_tipo_codigo           31137 non-null  object\n",
            " 9   automotor_tipo_descripcion      31137 non-null  object\n",
            " 10  automotor_marca_codigo          31137 non-null  object\n",
            " 11  automotor_marca_descripcion     31137 non-null  object\n",
            " 12  automotor_modelo_codigo         31137 non-null  object\n",
            " 13  automotor_modelo_descripcion    31137 non-null  object\n",
            " 14  automotor_uso_codigo            31137 non-null  object\n",
            " 15  automotor_uso_descripcion       31137 non-null  object\n",
            " 16  titular_tipo_persona            31137 non-null  object\n",
            " 17  titular_domicilio_localidad     31137 non-null  object\n",
            " 18  titular_domicilio_provincia     31137 non-null  object\n",
            " 19  titular_genero                  31137 non-null  object\n",
            " 20  titular_anio_nacimiento         31137 non-null  object\n",
            " 21  titular_pais_nacimiento         31137 non-null  object\n",
            " 22  titular_porcentaje_titularidad  31137 non-null  object\n",
            " 23  titular_domicilio_provincia_id  31137 non-null  object\n",
            " 24  titular_pais_nacimiento_id      31137 non-null  object\n",
            "dtypes: object(25)\n",
            "memory usage: 5.9+ MB\n"
          ]
        }
      ],
      "source": [
        "df.info()"
      ]
    },
    {
      "cell_type": "code",
      "execution_count": 73,
      "metadata": {
        "id": "_yamg-HGCg8f"
      },
      "outputs": [],
      "source": [
        "df2=df\n",
        "# renombrar un dataframe"
      ]
    },
    {
      "cell_type": "code",
      "execution_count": 74,
      "metadata": {
        "colab": {
          "base_uri": "https://localhost:8080/",
          "height": 774
        },
        "id": "7mWB2S6h9fCh",
        "outputId": "8060ff1f-7181-40cc-c520-a4869f942a1a"
      },
      "outputs": [
        {
          "data": {
            "text/plain": [
              "tramite_fecha\n",
              "2024-08-29    1726\n",
              "2024-08-28    1672\n",
              "2024-08-27    1580\n",
              "2024-08-26    1574\n",
              "2024-08-22    1544\n",
              "2024-08-23    1505\n",
              "2024-08-30    1466\n",
              "2024-08-15    1454\n",
              "2024-08-21    1434\n",
              "2024-08-14    1425\n",
              "2024-08-20    1420\n",
              "2024-08-13    1413\n",
              "2024-08-07    1365\n",
              "2024-08-01    1343\n",
              "2024-08-19    1312\n",
              "2024-08-12    1299\n",
              "2024-08-02    1286\n",
              "2024-08-16    1285\n",
              "2024-08-08    1282\n",
              "2024-08-05    1274\n",
              "2024-08-06    1244\n",
              "2024-08-09    1229\n",
              "2024-08-10       2\n",
              "2024-08-04       1\n",
              "2024-08-18       1\n",
              "2024-08-17       1\n",
              "Name: count, dtype: int64"
            ]
          },
          "execution_count": 74,
          "metadata": {},
          "output_type": "execute_result"
        }
      ],
      "source": [
        "df2['tramite_fecha'].value_counts()"
      ]
    },
    {
      "cell_type": "code",
      "execution_count": 75,
      "metadata": {
        "colab": {
          "base_uri": "https://localhost:8080/"
        },
        "id": "jZghBqt4xGKW",
        "outputId": "67f83bf2-8622-4fde-bb00-c263fb5915f0"
      },
      "outputs": [
        {
          "name": "stdout",
          "output_type": "stream",
          "text": [
            "<class 'pandas.core.frame.DataFrame'>\n",
            "RangeIndex: 31137 entries, 0 to 31136\n",
            "Data columns (total 25 columns):\n",
            " #   Column                          Non-Null Count  Dtype         \n",
            "---  ------                          --------------  -----         \n",
            " 0   tramite_tipo                    31137 non-null  object        \n",
            " 1   tramite_fecha                   31137 non-null  datetime64[ns]\n",
            " 2   fecha_inscripcion_inicial       31137 non-null  object        \n",
            " 3   registro_seccional_codigo       31137 non-null  object        \n",
            " 4   registro_seccional_descripcion  31137 non-null  object        \n",
            " 5   registro_seccional_provincia    31137 non-null  object        \n",
            " 6   automotor_origen                31137 non-null  object        \n",
            " 7   automotor_anio_modelo           31137 non-null  object        \n",
            " 8   automotor_tipo_codigo           31137 non-null  object        \n",
            " 9   automotor_tipo_descripcion      31137 non-null  object        \n",
            " 10  automotor_marca_codigo          31137 non-null  object        \n",
            " 11  automotor_marca_descripcion     31137 non-null  object        \n",
            " 12  automotor_modelo_codigo         31137 non-null  object        \n",
            " 13  automotor_modelo_descripcion    31137 non-null  object        \n",
            " 14  automotor_uso_codigo            31137 non-null  object        \n",
            " 15  automotor_uso_descripcion       31137 non-null  object        \n",
            " 16  titular_tipo_persona            31137 non-null  object        \n",
            " 17  titular_domicilio_localidad     31137 non-null  object        \n",
            " 18  titular_domicilio_provincia     31137 non-null  object        \n",
            " 19  titular_genero                  31137 non-null  object        \n",
            " 20  titular_anio_nacimiento         31137 non-null  object        \n",
            " 21  titular_pais_nacimiento         31137 non-null  object        \n",
            " 22  titular_porcentaje_titularidad  31137 non-null  object        \n",
            " 23  titular_domicilio_provincia_id  31137 non-null  object        \n",
            " 24  titular_pais_nacimiento_id      31137 non-null  object        \n",
            "dtypes: datetime64[ns](1), object(24)\n",
            "memory usage: 5.9+ MB\n"
          ]
        }
      ],
      "source": [
        "df2['tramite_fecha']= pd.to_datetime(df2['tramite_fecha']) # Formato datetime python\n",
        "df2.info()"
      ]
    },
    {
      "cell_type": "code",
      "execution_count": 76,
      "metadata": {
        "colab": {
          "base_uri": "https://localhost:8080/",
          "height": 774
        },
        "id": "wV4kRrH6Cvzj",
        "outputId": "71fc53de-3824-4bce-a4e4-5de7538644b6"
      },
      "outputs": [
        {
          "data": {
            "text/plain": [
              "tramite_fecha\n",
              "2024-08-01    1343\n",
              "2024-08-02    1286\n",
              "2024-08-04       1\n",
              "2024-08-05    1274\n",
              "2024-08-06    1244\n",
              "2024-08-07    1365\n",
              "2024-08-08    1282\n",
              "2024-08-09    1229\n",
              "2024-08-10       2\n",
              "2024-08-12    1299\n",
              "2024-08-13    1413\n",
              "2024-08-14    1425\n",
              "2024-08-15    1454\n",
              "2024-08-16    1285\n",
              "2024-08-17       1\n",
              "2024-08-18       1\n",
              "2024-08-19    1312\n",
              "2024-08-20    1420\n",
              "2024-08-21    1434\n",
              "2024-08-22    1544\n",
              "2024-08-23    1505\n",
              "2024-08-26    1574\n",
              "2024-08-27    1580\n",
              "2024-08-28    1672\n",
              "2024-08-29    1726\n",
              "2024-08-30    1466\n",
              "Freq: D, dtype: int64"
            ]
          },
          "execution_count": 76,
          "metadata": {},
          "output_type": "execute_result"
        }
      ],
      "source": [
        "\n",
        "monthly_accidents = df2.groupby(df2['tramite_fecha'].dt.to_period('D')).size()\n",
        "\n",
        "\n",
        "monthly_accidents"
      ]
    },
    {
      "cell_type": "code",
      "execution_count": 77,
      "metadata": {
        "colab": {
          "base_uri": "https://localhost:8080/"
        },
        "id": "xTkpn1St-TeQ",
        "outputId": "02c90a98-c812-4bfd-df1d-8d513d04077d"
      },
      "outputs": [
        {
          "data": {
            "text/plain": [
              "array(['047', '37', '53', '51', '67', '29', '34', '063', '092', '044',\n",
              "       '92', '19', '24', 'R81', '061', '120', '137', '136', '79', 'F82',\n",
              "       '112', '68', '024', 'M20', '102', 'N60', '158', '093', 'Q48',\n",
              "       '205', 'D82', '072', 'C54', 'B05', 'H12', '07', '75', '08', 'AL',\n",
              "       '82', 'AF', '130', '80', 'HY', 'BL', 'BB', '69', '09', 'DN', '65',\n",
              "       'GP', '90', '03', '04', '35', '99', 'EX', 'DR', 'GZ', 'AP', 'FN',\n",
              "       'DC', 'GN', 'HW', 'BP', '33', '56', 'CU', '45', 'ED', '13', '104',\n",
              "       'DQ', 'GR', 'GH', 'DZ', 'AD', 'AN', '15', '17', '127', 'P04',\n",
              "       '011', '027', '999', '058', '004', '018', 'AC', 'AH', '2A', '287',\n",
              "       'J33', 'T89', 'C23', 'L27', '055', '151', 'G89', '121', '987',\n",
              "       'B04', 'Q49', 'Q80', '819', 'C07', 'S36', '684', 'None', 'G53'],\n",
              "      dtype=object)"
            ]
          },
          "execution_count": 77,
          "metadata": {},
          "output_type": "execute_result"
        }
      ],
      "source": [
        "df2.automotor_marca_codigo.unique()"
      ]
    },
    {
      "cell_type": "code",
      "execution_count": 78,
      "metadata": {
        "colab": {
          "base_uri": "https://localhost:8080/",
          "height": 739
        },
        "id": "QorVhc7wEIuS",
        "outputId": "a0aa31bf-d309-45d2-c99e-894251947313"
      },
      "outputs": [
        {
          "data": {
            "text/html": [
              "<div>\n",
              "<style scoped>\n",
              "    .dataframe tbody tr th:only-of-type {\n",
              "        vertical-align: middle;\n",
              "    }\n",
              "\n",
              "    .dataframe tbody tr th {\n",
              "        vertical-align: top;\n",
              "    }\n",
              "\n",
              "    .dataframe thead th {\n",
              "        text-align: right;\n",
              "    }\n",
              "</style>\n",
              "<table border=\"1\" class=\"dataframe\">\n",
              "  <thead>\n",
              "    <tr style=\"text-align: right;\">\n",
              "      <th></th>\n",
              "      <th>automotor_marca_codigo</th>\n",
              "    </tr>\n",
              "    <tr>\n",
              "      <th>tramite_fecha</th>\n",
              "      <th></th>\n",
              "    </tr>\n",
              "  </thead>\n",
              "  <tbody>\n",
              "    <tr>\n",
              "      <th>2024-08-01</th>\n",
              "      <td>1343</td>\n",
              "    </tr>\n",
              "    <tr>\n",
              "      <th>2024-08-02</th>\n",
              "      <td>1286</td>\n",
              "    </tr>\n",
              "    <tr>\n",
              "      <th>2024-08-04</th>\n",
              "      <td>1</td>\n",
              "    </tr>\n",
              "    <tr>\n",
              "      <th>2024-08-05</th>\n",
              "      <td>1274</td>\n",
              "    </tr>\n",
              "    <tr>\n",
              "      <th>2024-08-06</th>\n",
              "      <td>1244</td>\n",
              "    </tr>\n",
              "    <tr>\n",
              "      <th>2024-08-07</th>\n",
              "      <td>1365</td>\n",
              "    </tr>\n",
              "    <tr>\n",
              "      <th>2024-08-08</th>\n",
              "      <td>1282</td>\n",
              "    </tr>\n",
              "    <tr>\n",
              "      <th>2024-08-09</th>\n",
              "      <td>1229</td>\n",
              "    </tr>\n",
              "    <tr>\n",
              "      <th>2024-08-10</th>\n",
              "      <td>2</td>\n",
              "    </tr>\n",
              "    <tr>\n",
              "      <th>2024-08-12</th>\n",
              "      <td>1299</td>\n",
              "    </tr>\n",
              "    <tr>\n",
              "      <th>2024-08-13</th>\n",
              "      <td>1413</td>\n",
              "    </tr>\n",
              "    <tr>\n",
              "      <th>2024-08-14</th>\n",
              "      <td>1425</td>\n",
              "    </tr>\n",
              "    <tr>\n",
              "      <th>2024-08-15</th>\n",
              "      <td>1454</td>\n",
              "    </tr>\n",
              "    <tr>\n",
              "      <th>2024-08-16</th>\n",
              "      <td>1285</td>\n",
              "    </tr>\n",
              "    <tr>\n",
              "      <th>2024-08-17</th>\n",
              "      <td>1</td>\n",
              "    </tr>\n",
              "    <tr>\n",
              "      <th>2024-08-18</th>\n",
              "      <td>1</td>\n",
              "    </tr>\n",
              "    <tr>\n",
              "      <th>2024-08-19</th>\n",
              "      <td>1312</td>\n",
              "    </tr>\n",
              "    <tr>\n",
              "      <th>2024-08-20</th>\n",
              "      <td>1420</td>\n",
              "    </tr>\n",
              "    <tr>\n",
              "      <th>2024-08-21</th>\n",
              "      <td>1434</td>\n",
              "    </tr>\n",
              "    <tr>\n",
              "      <th>2024-08-22</th>\n",
              "      <td>1544</td>\n",
              "    </tr>\n",
              "    <tr>\n",
              "      <th>2024-08-23</th>\n",
              "      <td>1505</td>\n",
              "    </tr>\n",
              "    <tr>\n",
              "      <th>2024-08-26</th>\n",
              "      <td>1574</td>\n",
              "    </tr>\n",
              "    <tr>\n",
              "      <th>2024-08-27</th>\n",
              "      <td>1580</td>\n",
              "    </tr>\n",
              "    <tr>\n",
              "      <th>2024-08-28</th>\n",
              "      <td>1672</td>\n",
              "    </tr>\n",
              "    <tr>\n",
              "      <th>2024-08-29</th>\n",
              "      <td>1726</td>\n",
              "    </tr>\n",
              "    <tr>\n",
              "      <th>2024-08-30</th>\n",
              "      <td>1466</td>\n",
              "    </tr>\n",
              "  </tbody>\n",
              "</table>\n",
              "</div>"
            ],
            "text/plain": [
              "               automotor_marca_codigo\n",
              "tramite_fecha                        \n",
              "2024-08-01                       1343\n",
              "2024-08-02                       1286\n",
              "2024-08-04                          1\n",
              "2024-08-05                       1274\n",
              "2024-08-06                       1244\n",
              "2024-08-07                       1365\n",
              "2024-08-08                       1282\n",
              "2024-08-09                       1229\n",
              "2024-08-10                          2\n",
              "2024-08-12                       1299\n",
              "2024-08-13                       1413\n",
              "2024-08-14                       1425\n",
              "2024-08-15                       1454\n",
              "2024-08-16                       1285\n",
              "2024-08-17                          1\n",
              "2024-08-18                          1\n",
              "2024-08-19                       1312\n",
              "2024-08-20                       1420\n",
              "2024-08-21                       1434\n",
              "2024-08-22                       1544\n",
              "2024-08-23                       1505\n",
              "2024-08-26                       1574\n",
              "2024-08-27                       1580\n",
              "2024-08-28                       1672\n",
              "2024-08-29                       1726\n",
              "2024-08-30                       1466"
            ]
          },
          "execution_count": 78,
          "metadata": {},
          "output_type": "execute_result"
        }
      ],
      "source": [
        "agrupado = df2.groupby(df2['tramite_fecha'].dt.to_period('D')).agg({'automotor_marca_codigo': 'count'})\n",
        "agrupado"
      ]
    },
    {
      "cell_type": "code",
      "execution_count": 79,
      "metadata": {
        "colab": {
          "base_uri": "https://localhost:8080/",
          "height": 774
        },
        "id": "2rBCFD2Y-077",
        "outputId": "22c206bd-bb5d-42cf-b3f6-0b0f006d9320"
      },
      "outputs": [
        {
          "data": {
            "text/plain": [
              "tramite_fecha\n",
              "2024-08-01    1343\n",
              "2024-08-02    1286\n",
              "2024-08-04       1\n",
              "2024-08-05    1274\n",
              "2024-08-06    1244\n",
              "2024-08-07    1365\n",
              "2024-08-08    1282\n",
              "2024-08-09    1229\n",
              "2024-08-10       2\n",
              "2024-08-12    1299\n",
              "2024-08-13    1413\n",
              "2024-08-14    1425\n",
              "2024-08-15    1454\n",
              "2024-08-16    1285\n",
              "2024-08-17       1\n",
              "2024-08-18       1\n",
              "2024-08-19    1312\n",
              "2024-08-20    1420\n",
              "2024-08-21    1434\n",
              "2024-08-22    1544\n",
              "2024-08-23    1505\n",
              "2024-08-26    1574\n",
              "2024-08-27    1580\n",
              "2024-08-28    1672\n",
              "2024-08-29    1726\n",
              "2024-08-30    1466\n",
              "Freq: D, dtype: int64"
            ]
          },
          "execution_count": 79,
          "metadata": {},
          "output_type": "execute_result"
        }
      ],
      "source": [
        "agrupado = df2.groupby(df2['tramite_fecha'].dt.to_period('D')).size()\n",
        "agrupado"
      ]
    },
    {
      "cell_type": "markdown",
      "metadata": {
        "id": "R-7wcNwPEdI_"
      },
      "source": [
        "count(): Este método cuenta el número de valores no nulos en cada columna del grupo.\n",
        "\n",
        "\n",
        "size(): Este método cuenta el número total de elementos en cada grupo, incluyendo los valores nulos."
      ]
    },
    {
      "cell_type": "code",
      "execution_count": 80,
      "metadata": {
        "colab": {
          "base_uri": "https://localhost:8080/",
          "height": 147
        },
        "id": "fHAfgUFwB9dH",
        "outputId": "80e68a62-28c8-4195-9123-55e2e3490021"
      },
      "outputs": [
        {
          "data": {
            "text/plain": [
              "tramite_fecha\n",
              "2024-08    31137\n",
              "Freq: M, dtype: int64"
            ]
          },
          "execution_count": 80,
          "metadata": {},
          "output_type": "execute_result"
        }
      ],
      "source": [
        "#esto es para meses cambiar en period la D por la M\n",
        "\n",
        "monthly_accidents2 = df2.groupby(df2['tramite_fecha'].dt.to_period('M')).size()\n",
        "\n",
        "\n",
        "monthly_accidents2"
      ]
    },
    {
      "cell_type": "code",
      "execution_count": 81,
      "metadata": {
        "colab": {
          "base_uri": "https://localhost:8080/",
          "height": 608
        },
        "id": "sEKsSnBbNDQ5",
        "outputId": "fea3a81b-85f7-4345-9b14-16d09d78b493"
      },
      "outputs": [
        {
          "data": {
            "text/plain": [
              "<Axes: xlabel='tramite_fecha'>"
            ]
          },
          "execution_count": 81,
          "metadata": {},
          "output_type": "execute_result"
        },
        {
          "data": {
            "image/png": "[encoded data removed]",
            "text/plain": [
              "<Figure size 1200x600 with 1 Axes>"
            ]
          },
          "metadata": {},
          "output_type": "display_data"
        }
      ],
      "source": [
        "monthly_accidents.plot.line(figsize=(12,6))"
      ]
    },
    {
      "cell_type": "markdown",
      "metadata": {
        "id": "KK1NjsPjxCSe"
      },
      "source": [
        "Usemos ahora un dataset de ejemplo para seguir practicando con fechas"
      ]
    },
    {
      "cell_type": "code",
      "execution_count": 82,
      "metadata": {
        "colab": {
          "base_uri": "https://localhost:8080/",
          "height": 175
        },
        "id": "lWc_In7ZxTYI",
        "outputId": "e1da3a6e-ed3b-40e8-b04d-30a3cc65ffad"
      },
      "outputs": [
        {
          "data": {
            "text/html": [
              "<div>\n",
              "<style scoped>\n",
              "    .dataframe tbody tr th:only-of-type {\n",
              "        vertical-align: middle;\n",
              "    }\n",
              "\n",
              "    .dataframe tbody tr th {\n",
              "        vertical-align: top;\n",
              "    }\n",
              "\n",
              "    .dataframe thead th {\n",
              "        text-align: right;\n",
              "    }\n",
              "</style>\n",
              "<table border=\"1\" class=\"dataframe\">\n",
              "  <thead>\n",
              "    <tr style=\"text-align: right;\">\n",
              "      <th></th>\n",
              "      <th>Fecha</th>\n",
              "      <th>Temperatura</th>\n",
              "    </tr>\n",
              "  </thead>\n",
              "  <tbody>\n",
              "    <tr>\n",
              "      <th>0</th>\n",
              "      <td>02/01/2023</td>\n",
              "      <td>25</td>\n",
              "    </tr>\n",
              "    <tr>\n",
              "      <th>1</th>\n",
              "      <td>01/02/2023</td>\n",
              "      <td>28</td>\n",
              "    </tr>\n",
              "    <tr>\n",
              "      <th>2</th>\n",
              "      <td>01/03/2023</td>\n",
              "      <td>26</td>\n",
              "    </tr>\n",
              "    <tr>\n",
              "      <th>3</th>\n",
              "      <td>01/04/2023</td>\n",
              "      <td>30</td>\n",
              "    </tr>\n",
              "  </tbody>\n",
              "</table>\n",
              "</div>"
            ],
            "text/plain": [
              "        Fecha  Temperatura\n",
              "0  02/01/2023           25\n",
              "1  01/02/2023           28\n",
              "2  01/03/2023           26\n",
              "3  01/04/2023           30"
            ]
          },
          "execution_count": 82,
          "metadata": {},
          "output_type": "execute_result"
        }
      ],
      "source": [
        "\n",
        "# Crear las listas de fechas y temperaturas\n",
        "fechas = ['02/01/2023', '01/02/2023', '01/03/2023', '01/04/2023']\n",
        "temperaturas = (25, 28, 26, 30)\n",
        "\n",
        "# Crear el DataFrame utilizando las listas\n",
        "data= pd.DataFrame({'Fecha': fechas, 'Temperatura': temperaturas})\n",
        "\n",
        "data"
      ]
    },
    {
      "cell_type": "code",
      "execution_count": 83,
      "metadata": {
        "colab": {
          "base_uri": "https://localhost:8080/"
        },
        "id": "7KdDV5kMxWh0",
        "outputId": "b1ba8da5-d09a-4c9d-ebd9-d5933dd533a4"
      },
      "outputs": [
        {
          "name": "stdout",
          "output_type": "stream",
          "text": [
            "<class 'pandas.core.frame.DataFrame'>\n",
            "RangeIndex: 4 entries, 0 to 3\n",
            "Data columns (total 2 columns):\n",
            " #   Column       Non-Null Count  Dtype \n",
            "---  ------       --------------  ----- \n",
            " 0   Fecha        4 non-null      object\n",
            " 1   Temperatura  4 non-null      int64 \n",
            "dtypes: int64(1), object(1)\n",
            "memory usage: 196.0+ bytes\n"
          ]
        }
      ],
      "source": [
        "data.info()"
      ]
    },
    {
      "cell_type": "code",
      "execution_count": 84,
      "metadata": {
        "colab": {
          "base_uri": "https://localhost:8080/",
          "height": 175
        },
        "id": "PHrWefb2zTBr",
        "outputId": "390309e7-a4c7-440b-e74d-c487e3454e0f"
      },
      "outputs": [
        {
          "data": {
            "text/html": [
              "<div>\n",
              "<style scoped>\n",
              "    .dataframe tbody tr th:only-of-type {\n",
              "        vertical-align: middle;\n",
              "    }\n",
              "\n",
              "    .dataframe tbody tr th {\n",
              "        vertical-align: top;\n",
              "    }\n",
              "\n",
              "    .dataframe thead th {\n",
              "        text-align: right;\n",
              "    }\n",
              "</style>\n",
              "<table border=\"1\" class=\"dataframe\">\n",
              "  <thead>\n",
              "    <tr style=\"text-align: right;\">\n",
              "      <th></th>\n",
              "      <th>Fecha</th>\n",
              "      <th>Temperatura</th>\n",
              "    </tr>\n",
              "  </thead>\n",
              "  <tbody>\n",
              "    <tr>\n",
              "      <th>0</th>\n",
              "      <td>2023-02-01</td>\n",
              "      <td>25</td>\n",
              "    </tr>\n",
              "    <tr>\n",
              "      <th>1</th>\n",
              "      <td>2023-01-02</td>\n",
              "      <td>28</td>\n",
              "    </tr>\n",
              "    <tr>\n",
              "      <th>2</th>\n",
              "      <td>2023-01-03</td>\n",
              "      <td>26</td>\n",
              "    </tr>\n",
              "    <tr>\n",
              "      <th>3</th>\n",
              "      <td>2023-01-04</td>\n",
              "      <td>30</td>\n",
              "    </tr>\n",
              "  </tbody>\n",
              "</table>\n",
              "</div>"
            ],
            "text/plain": [
              "       Fecha  Temperatura\n",
              "0 2023-02-01           25\n",
              "1 2023-01-02           28\n",
              "2 2023-01-03           26\n",
              "3 2023-01-04           30"
            ]
          },
          "execution_count": 84,
          "metadata": {},
          "output_type": "execute_result"
        }
      ],
      "source": [
        "# Convertir la columna 'Fecha' al tipo datetime\n",
        "data['Fecha'] = pd.to_datetime(data['Fecha'])\n",
        "data\n",
        "\n"
      ]
    },
    {
      "cell_type": "code",
      "execution_count": 85,
      "metadata": {
        "colab": {
          "base_uri": "https://localhost:8080/"
        },
        "id": "3rtckCDoGjFw",
        "outputId": "4fef486c-0fa9-4cf3-8e7d-303abcc6070e"
      },
      "outputs": [
        {
          "name": "stdout",
          "output_type": "stream",
          "text": [
            "<class 'pandas.core.frame.DataFrame'>\n",
            "RangeIndex: 4 entries, 0 to 3\n",
            "Data columns (total 2 columns):\n",
            " #   Column       Non-Null Count  Dtype         \n",
            "---  ------       --------------  -----         \n",
            " 0   Fecha        4 non-null      datetime64[ns]\n",
            " 1   Temperatura  4 non-null      int64         \n",
            "dtypes: datetime64[ns](1), int64(1)\n",
            "memory usage: 196.0 bytes\n"
          ]
        }
      ],
      "source": [
        "data.info()"
      ]
    },
    {
      "cell_type": "markdown",
      "metadata": {
        "id": "H0ck4XbmGmsj"
      },
      "source": [
        "**veamos otra forma de hacer lo mismo**"
      ]
    },
    {
      "cell_type": "code",
      "execution_count": 86,
      "metadata": {
        "colab": {
          "base_uri": "https://localhost:8080/",
          "height": 175
        },
        "id": "JVBMvGrYGUBE",
        "outputId": "b4f8a0ee-a53b-4cb1-ca19-d222a3043085"
      },
      "outputs": [
        {
          "data": {
            "text/html": [
              "<div>\n",
              "<style scoped>\n",
              "    .dataframe tbody tr th:only-of-type {\n",
              "        vertical-align: middle;\n",
              "    }\n",
              "\n",
              "    .dataframe tbody tr th {\n",
              "        vertical-align: top;\n",
              "    }\n",
              "\n",
              "    .dataframe thead th {\n",
              "        text-align: right;\n",
              "    }\n",
              "</style>\n",
              "<table border=\"1\" class=\"dataframe\">\n",
              "  <thead>\n",
              "    <tr style=\"text-align: right;\">\n",
              "      <th></th>\n",
              "      <th>Fecha</th>\n",
              "      <th>Temperatura</th>\n",
              "    </tr>\n",
              "  </thead>\n",
              "  <tbody>\n",
              "    <tr>\n",
              "      <th>0</th>\n",
              "      <td>02/01/2023</td>\n",
              "      <td>25</td>\n",
              "    </tr>\n",
              "    <tr>\n",
              "      <th>1</th>\n",
              "      <td>01/02/2023</td>\n",
              "      <td>28</td>\n",
              "    </tr>\n",
              "    <tr>\n",
              "      <th>2</th>\n",
              "      <td>01/03/2023</td>\n",
              "      <td>26</td>\n",
              "    </tr>\n",
              "    <tr>\n",
              "      <th>3</th>\n",
              "      <td>01/04/2023</td>\n",
              "      <td>30</td>\n",
              "    </tr>\n",
              "  </tbody>\n",
              "</table>\n",
              "</div>"
            ],
            "text/plain": [
              "        Fecha  Temperatura\n",
              "0  02/01/2023           25\n",
              "1  01/02/2023           28\n",
              "2  01/03/2023           26\n",
              "3  01/04/2023           30"
            ]
          },
          "execution_count": 86,
          "metadata": {},
          "output_type": "execute_result"
        }
      ],
      "source": [
        "# Crear las listas de fechas y temperaturas\n",
        "import numpy as np\n",
        "fechas = ['02/01/2023', '01/02/2023', '01/03/2023', '01/04/2023']\n",
        "temperaturas = np.array([25, 28, 26, 30])\n",
        "\n",
        "# Crear el DataFrame utilizando las listas\n",
        "data= pd.DataFrame({'Fecha': fechas, 'Temperatura': temperaturas})\n",
        "data"
      ]
    },
    {
      "cell_type": "code",
      "execution_count": 87,
      "metadata": {
        "colab": {
          "base_uri": "https://localhost:8080/",
          "height": 175
        },
        "id": "UYJy4TRlGI4U",
        "outputId": "0ed2a69c-315d-4948-a4e6-88041c17ff82"
      },
      "outputs": [
        {
          "data": {
            "text/html": [
              "<div>\n",
              "<style scoped>\n",
              "    .dataframe tbody tr th:only-of-type {\n",
              "        vertical-align: middle;\n",
              "    }\n",
              "\n",
              "    .dataframe tbody tr th {\n",
              "        vertical-align: top;\n",
              "    }\n",
              "\n",
              "    .dataframe thead th {\n",
              "        text-align: right;\n",
              "    }\n",
              "</style>\n",
              "<table border=\"1\" class=\"dataframe\">\n",
              "  <thead>\n",
              "    <tr style=\"text-align: right;\">\n",
              "      <th></th>\n",
              "      <th>Fecha</th>\n",
              "      <th>Temperatura</th>\n",
              "    </tr>\n",
              "  </thead>\n",
              "  <tbody>\n",
              "    <tr>\n",
              "      <th>0</th>\n",
              "      <td>2023-02-01</td>\n",
              "      <td>25</td>\n",
              "    </tr>\n",
              "    <tr>\n",
              "      <th>1</th>\n",
              "      <td>2023-01-02</td>\n",
              "      <td>28</td>\n",
              "    </tr>\n",
              "    <tr>\n",
              "      <th>2</th>\n",
              "      <td>2023-01-03</td>\n",
              "      <td>26</td>\n",
              "    </tr>\n",
              "    <tr>\n",
              "      <th>3</th>\n",
              "      <td>2023-01-04</td>\n",
              "      <td>30</td>\n",
              "    </tr>\n",
              "  </tbody>\n",
              "</table>\n",
              "</div>"
            ],
            "text/plain": [
              "       Fecha  Temperatura\n",
              "0 2023-02-01           25\n",
              "1 2023-01-02           28\n",
              "2 2023-01-03           26\n",
              "3 2023-01-04           30"
            ]
          },
          "execution_count": 87,
          "metadata": {},
          "output_type": "execute_result"
        }
      ],
      "source": [
        "# Convertir la columna 'Fecha' al tipo datetime\n",
        "\n",
        "data['Fecha'] = data['Fecha'].astype('datetime64[ns]')\n",
        "data"
      ]
    },
    {
      "cell_type": "code",
      "execution_count": 88,
      "metadata": {
        "colab": {
          "base_uri": "https://localhost:8080/"
        },
        "id": "NHnU4zfr6tVO",
        "outputId": "729c3907-fe54-48de-ccd3-97c6b403ea96"
      },
      "outputs": [
        {
          "name": "stdout",
          "output_type": "stream",
          "text": [
            "<class 'pandas.core.frame.DataFrame'>\n",
            "RangeIndex: 4 entries, 0 to 3\n",
            "Data columns (total 2 columns):\n",
            " #   Column       Non-Null Count  Dtype         \n",
            "---  ------       --------------  -----         \n",
            " 0   Fecha        4 non-null      datetime64[ns]\n",
            " 1   Temperatura  4 non-null      int64         \n",
            "dtypes: datetime64[ns](1), int64(1)\n",
            "memory usage: 196.0 bytes\n"
          ]
        }
      ],
      "source": [
        "data.info()"
      ]
    },
    {
      "cell_type": "code",
      "execution_count": 89,
      "metadata": {
        "colab": {
          "base_uri": "https://localhost:8080/",
          "height": 175
        },
        "id": "-TB7edyNznmh",
        "outputId": "376180c0-6643-419f-cc15-afd5dfc451ac"
      },
      "outputs": [
        {
          "data": {
            "text/html": [
              "<div>\n",
              "<style scoped>\n",
              "    .dataframe tbody tr th:only-of-type {\n",
              "        vertical-align: middle;\n",
              "    }\n",
              "\n",
              "    .dataframe tbody tr th {\n",
              "        vertical-align: top;\n",
              "    }\n",
              "\n",
              "    .dataframe thead th {\n",
              "        text-align: right;\n",
              "    }\n",
              "</style>\n",
              "<table border=\"1\" class=\"dataframe\">\n",
              "  <thead>\n",
              "    <tr style=\"text-align: right;\">\n",
              "      <th></th>\n",
              "      <th>Fecha</th>\n",
              "      <th>Temperatura</th>\n",
              "      <th>dia</th>\n",
              "      <th>mes</th>\n",
              "      <th>año</th>\n",
              "    </tr>\n",
              "  </thead>\n",
              "  <tbody>\n",
              "    <tr>\n",
              "      <th>0</th>\n",
              "      <td>2023-02-01</td>\n",
              "      <td>25</td>\n",
              "      <td>01</td>\n",
              "      <td>02</td>\n",
              "      <td>2023</td>\n",
              "    </tr>\n",
              "    <tr>\n",
              "      <th>1</th>\n",
              "      <td>2023-01-02</td>\n",
              "      <td>28</td>\n",
              "      <td>02</td>\n",
              "      <td>01</td>\n",
              "      <td>2023</td>\n",
              "    </tr>\n",
              "    <tr>\n",
              "      <th>2</th>\n",
              "      <td>2023-01-03</td>\n",
              "      <td>26</td>\n",
              "      <td>03</td>\n",
              "      <td>01</td>\n",
              "      <td>2023</td>\n",
              "    </tr>\n",
              "    <tr>\n",
              "      <th>3</th>\n",
              "      <td>2023-01-04</td>\n",
              "      <td>30</td>\n",
              "      <td>04</td>\n",
              "      <td>01</td>\n",
              "      <td>2023</td>\n",
              "    </tr>\n",
              "  </tbody>\n",
              "</table>\n",
              "</div>"
            ],
            "text/plain": [
              "       Fecha  Temperatura dia mes   año\n",
              "0 2023-02-01           25  01  02  2023\n",
              "1 2023-01-02           28  02  01  2023\n",
              "2 2023-01-03           26  03  01  2023\n",
              "3 2023-01-04           30  04  01  2023"
            ]
          },
          "execution_count": 89,
          "metadata": {},
          "output_type": "execute_result"
        }
      ],
      "source": [
        "data[\"dia\"]=data[\"Fecha\"].dt.strftime(\"%d\")\n",
        "data[\"mes\"]=data[\"Fecha\"].dt.strftime(\"%m\")\n",
        "data[\"año\"]=data[\"Fecha\"].dt.strftime(\"%Y\")\n",
        "data"
      ]
    },
    {
      "cell_type": "code",
      "execution_count": 90,
      "metadata": {
        "colab": {
          "base_uri": "https://localhost:8080/"
        },
        "id": "41_VxDf_HEy6",
        "outputId": "b1ad54dc-f818-4afc-ba61-bdd4a24f5b3c"
      },
      "outputs": [
        {
          "name": "stdout",
          "output_type": "stream",
          "text": [
            "<class 'pandas.core.frame.DataFrame'>\n",
            "RangeIndex: 4 entries, 0 to 3\n",
            "Data columns (total 5 columns):\n",
            " #   Column       Non-Null Count  Dtype         \n",
            "---  ------       --------------  -----         \n",
            " 0   Fecha        4 non-null      datetime64[ns]\n",
            " 1   Temperatura  4 non-null      int64         \n",
            " 2   dia          4 non-null      object        \n",
            " 3   mes          4 non-null      object        \n",
            " 4   año          4 non-null      object        \n",
            "dtypes: datetime64[ns](1), int64(1), object(3)\n",
            "memory usage: 292.0+ bytes\n"
          ]
        }
      ],
      "source": [
        "data.info()"
      ]
    },
    {
      "cell_type": "code",
      "execution_count": 91,
      "metadata": {
        "colab": {
          "base_uri": "https://localhost:8080/",
          "height": 175
        },
        "id": "i1Mzh4Hx5neM",
        "outputId": "5f45433c-53d4-447c-ee31-1779c80bde1b"
      },
      "outputs": [
        {
          "data": {
            "text/html": [
              "<div>\n",
              "<style scoped>\n",
              "    .dataframe tbody tr th:only-of-type {\n",
              "        vertical-align: middle;\n",
              "    }\n",
              "\n",
              "    .dataframe tbody tr th {\n",
              "        vertical-align: top;\n",
              "    }\n",
              "\n",
              "    .dataframe thead th {\n",
              "        text-align: right;\n",
              "    }\n",
              "</style>\n",
              "<table border=\"1\" class=\"dataframe\">\n",
              "  <thead>\n",
              "    <tr style=\"text-align: right;\">\n",
              "      <th></th>\n",
              "      <th>Fecha</th>\n",
              "      <th>Temperatura</th>\n",
              "      <th>dia</th>\n",
              "      <th>mes</th>\n",
              "      <th>año</th>\n",
              "    </tr>\n",
              "  </thead>\n",
              "  <tbody>\n",
              "    <tr>\n",
              "      <th>0</th>\n",
              "      <td>01/02/2023</td>\n",
              "      <td>25</td>\n",
              "      <td>01</td>\n",
              "      <td>02</td>\n",
              "      <td>2023</td>\n",
              "    </tr>\n",
              "    <tr>\n",
              "      <th>1</th>\n",
              "      <td>02/01/2023</td>\n",
              "      <td>28</td>\n",
              "      <td>02</td>\n",
              "      <td>01</td>\n",
              "      <td>2023</td>\n",
              "    </tr>\n",
              "    <tr>\n",
              "      <th>2</th>\n",
              "      <td>03/01/2023</td>\n",
              "      <td>26</td>\n",
              "      <td>03</td>\n",
              "      <td>01</td>\n",
              "      <td>2023</td>\n",
              "    </tr>\n",
              "    <tr>\n",
              "      <th>3</th>\n",
              "      <td>04/01/2023</td>\n",
              "      <td>30</td>\n",
              "      <td>04</td>\n",
              "      <td>01</td>\n",
              "      <td>2023</td>\n",
              "    </tr>\n",
              "  </tbody>\n",
              "</table>\n",
              "</div>"
            ],
            "text/plain": [
              "        Fecha  Temperatura dia mes   año\n",
              "0  01/02/2023           25  01  02  2023\n",
              "1  02/01/2023           28  02  01  2023\n",
              "2  03/01/2023           26  03  01  2023\n",
              "3  04/01/2023           30  04  01  2023"
            ]
          },
          "execution_count": 91,
          "metadata": {},
          "output_type": "execute_result"
        }
      ],
      "source": [
        "# Obtener la fecha en formato día mes año\n",
        "data['Fecha'] = data['Fecha'].dt.strftime(\"%d/%m/%Y\")\n",
        "\n",
        "data"
      ]
    },
    {
      "cell_type": "code",
      "execution_count": 92,
      "metadata": {
        "colab": {
          "base_uri": "https://localhost:8080/"
        },
        "id": "0ij7Np6j7bPr",
        "outputId": "abd8094e-5500-4284-9d28-e7d56846eed3"
      },
      "outputs": [
        {
          "name": "stdout",
          "output_type": "stream",
          "text": [
            "<class 'pandas.core.frame.DataFrame'>\n",
            "RangeIndex: 4 entries, 0 to 3\n",
            "Data columns (total 5 columns):\n",
            " #   Column       Non-Null Count  Dtype \n",
            "---  ------       --------------  ----- \n",
            " 0   Fecha        4 non-null      object\n",
            " 1   Temperatura  4 non-null      int64 \n",
            " 2   dia          4 non-null      object\n",
            " 3   mes          4 non-null      object\n",
            " 4   año          4 non-null      object\n",
            "dtypes: int64(1), object(4)\n",
            "memory usage: 292.0+ bytes\n"
          ]
        }
      ],
      "source": [
        "data.info()"
      ]
    },
    {
      "cell_type": "markdown",
      "metadata": {
        "id": "ux8LRbogHKzC"
      },
      "source": [
        "**más ejemplos**"
      ]
    },
    {
      "cell_type": "code",
      "execution_count": 93,
      "metadata": {
        "colab": {
          "base_uri": "https://localhost:8080/",
          "height": 175
        },
        "id": "SW7HkzK_6PJO",
        "outputId": "6204416c-9817-4e6b-f6a7-72f9518ee52f"
      },
      "outputs": [
        {
          "data": {
            "text/html": [
              "<div>\n",
              "<style scoped>\n",
              "    .dataframe tbody tr th:only-of-type {\n",
              "        vertical-align: middle;\n",
              "    }\n",
              "\n",
              "    .dataframe tbody tr th {\n",
              "        vertical-align: top;\n",
              "    }\n",
              "\n",
              "    .dataframe thead th {\n",
              "        text-align: right;\n",
              "    }\n",
              "</style>\n",
              "<table border=\"1\" class=\"dataframe\">\n",
              "  <thead>\n",
              "    <tr style=\"text-align: right;\">\n",
              "      <th></th>\n",
              "      <th>Fecha</th>\n",
              "      <th>Temperatura</th>\n",
              "    </tr>\n",
              "  </thead>\n",
              "  <tbody>\n",
              "    <tr>\n",
              "      <th>0</th>\n",
              "      <td>02/01/2023</td>\n",
              "      <td>25</td>\n",
              "    </tr>\n",
              "    <tr>\n",
              "      <th>1</th>\n",
              "      <td>01/02/2023</td>\n",
              "      <td>28</td>\n",
              "    </tr>\n",
              "    <tr>\n",
              "      <th>2</th>\n",
              "      <td>01/03/2023</td>\n",
              "      <td>26</td>\n",
              "    </tr>\n",
              "    <tr>\n",
              "      <th>3</th>\n",
              "      <td>01/04/2023</td>\n",
              "      <td>30</td>\n",
              "    </tr>\n",
              "  </tbody>\n",
              "</table>\n",
              "</div>"
            ],
            "text/plain": [
              "        Fecha  Temperatura\n",
              "0  02/01/2023           25\n",
              "1  01/02/2023           28\n",
              "2  01/03/2023           26\n",
              "3  01/04/2023           30"
            ]
          },
          "execution_count": 93,
          "metadata": {},
          "output_type": "execute_result"
        }
      ],
      "source": [
        "\n",
        "# Crear las listas de fechas y temperaturas\n",
        "fechas = ['02/01/2023', '01/02/2023', '01/03/2023', '01/04/2023']\n",
        "temperaturas = [25, 28, 26, 30]\n",
        "\n",
        "# Crear el DataFrame utilizando las listas\n",
        "data2= pd.DataFrame({'Fecha': fechas, 'Temperatura': temperaturas})\n",
        "\n",
        "data2\n"
      ]
    },
    {
      "cell_type": "code",
      "execution_count": 94,
      "metadata": {
        "colab": {
          "base_uri": "https://localhost:8080/",
          "height": 175
        },
        "id": "Z7PC5IP7vVh6",
        "outputId": "871a0f9f-1eea-446a-a93f-080959dda200"
      },
      "outputs": [
        {
          "data": {
            "text/html": [
              "<div>\n",
              "<style scoped>\n",
              "    .dataframe tbody tr th:only-of-type {\n",
              "        vertical-align: middle;\n",
              "    }\n",
              "\n",
              "    .dataframe tbody tr th {\n",
              "        vertical-align: top;\n",
              "    }\n",
              "\n",
              "    .dataframe thead th {\n",
              "        text-align: right;\n",
              "    }\n",
              "</style>\n",
              "<table border=\"1\" class=\"dataframe\">\n",
              "  <thead>\n",
              "    <tr style=\"text-align: right;\">\n",
              "      <th></th>\n",
              "      <th>Fecha</th>\n",
              "      <th>Temperatura</th>\n",
              "    </tr>\n",
              "  </thead>\n",
              "  <tbody>\n",
              "    <tr>\n",
              "      <th>0</th>\n",
              "      <td>2023-02-01</td>\n",
              "      <td>25</td>\n",
              "    </tr>\n",
              "    <tr>\n",
              "      <th>1</th>\n",
              "      <td>2023-01-02</td>\n",
              "      <td>28</td>\n",
              "    </tr>\n",
              "    <tr>\n",
              "      <th>2</th>\n",
              "      <td>2023-01-03</td>\n",
              "      <td>26</td>\n",
              "    </tr>\n",
              "    <tr>\n",
              "      <th>3</th>\n",
              "      <td>2023-01-04</td>\n",
              "      <td>30</td>\n",
              "    </tr>\n",
              "  </tbody>\n",
              "</table>\n",
              "</div>"
            ],
            "text/plain": [
              "       Fecha  Temperatura\n",
              "0 2023-02-01           25\n",
              "1 2023-01-02           28\n",
              "2 2023-01-03           26\n",
              "3 2023-01-04           30"
            ]
          },
          "execution_count": 94,
          "metadata": {},
          "output_type": "execute_result"
        }
      ],
      "source": [
        "# Convertir la columna 'Fecha' al tipo datetime\n",
        "data2['Fecha'] = pd.to_datetime(data2['Fecha'])\n",
        "data2"
      ]
    },
    {
      "cell_type": "code",
      "execution_count": 95,
      "metadata": {
        "colab": {
          "base_uri": "https://localhost:8080/",
          "height": 175
        },
        "id": "mMqp8DF56R9r",
        "outputId": "3003e6b9-ccb0-4763-dd29-976f2b6fbe3a"
      },
      "outputs": [
        {
          "data": {
            "text/html": [
              "<div>\n",
              "<style scoped>\n",
              "    .dataframe tbody tr th:only-of-type {\n",
              "        vertical-align: middle;\n",
              "    }\n",
              "\n",
              "    .dataframe tbody tr th {\n",
              "        vertical-align: top;\n",
              "    }\n",
              "\n",
              "    .dataframe thead th {\n",
              "        text-align: right;\n",
              "    }\n",
              "</style>\n",
              "<table border=\"1\" class=\"dataframe\">\n",
              "  <thead>\n",
              "    <tr style=\"text-align: right;\">\n",
              "      <th></th>\n",
              "      <th>Fecha</th>\n",
              "      <th>Temperatura</th>\n",
              "      <th>Dia</th>\n",
              "      <th>Mes</th>\n",
              "      <th>Year</th>\n",
              "    </tr>\n",
              "  </thead>\n",
              "  <tbody>\n",
              "    <tr>\n",
              "      <th>0</th>\n",
              "      <td>2023-02-01</td>\n",
              "      <td>25</td>\n",
              "      <td>1</td>\n",
              "      <td>2</td>\n",
              "      <td>2023</td>\n",
              "    </tr>\n",
              "    <tr>\n",
              "      <th>1</th>\n",
              "      <td>2023-01-02</td>\n",
              "      <td>28</td>\n",
              "      <td>2</td>\n",
              "      <td>1</td>\n",
              "      <td>2023</td>\n",
              "    </tr>\n",
              "    <tr>\n",
              "      <th>2</th>\n",
              "      <td>2023-01-03</td>\n",
              "      <td>26</td>\n",
              "      <td>3</td>\n",
              "      <td>1</td>\n",
              "      <td>2023</td>\n",
              "    </tr>\n",
              "    <tr>\n",
              "      <th>3</th>\n",
              "      <td>2023-01-04</td>\n",
              "      <td>30</td>\n",
              "      <td>4</td>\n",
              "      <td>1</td>\n",
              "      <td>2023</td>\n",
              "    </tr>\n",
              "  </tbody>\n",
              "</table>\n",
              "</div>"
            ],
            "text/plain": [
              "       Fecha  Temperatura  Dia  Mes  Year\n",
              "0 2023-02-01           25    1    2  2023\n",
              "1 2023-01-02           28    2    1  2023\n",
              "2 2023-01-03           26    3    1  2023\n",
              "3 2023-01-04           30    4    1  2023"
            ]
          },
          "execution_count": 95,
          "metadata": {},
          "output_type": "execute_result"
        }
      ],
      "source": [
        "# Extraer el día de la columna 'Fecha'\n",
        "data2['Dia'] = data2['Fecha'].dt.day\n",
        "data2['Mes'] = data2['Fecha'].dt.month\n",
        "data2['Year'] = data2['Fecha'].dt.year\n",
        "data2"
      ]
    },
    {
      "cell_type": "code",
      "execution_count": 96,
      "metadata": {
        "colab": {
          "base_uri": "https://localhost:8080/"
        },
        "id": "76R1a3Om7ttk",
        "outputId": "16e6800e-b7a9-4d42-d074-30ff32f6d3db"
      },
      "outputs": [
        {
          "name": "stdout",
          "output_type": "stream",
          "text": [
            "<class 'pandas.core.frame.DataFrame'>\n",
            "RangeIndex: 4 entries, 0 to 3\n",
            "Data columns (total 5 columns):\n",
            " #   Column       Non-Null Count  Dtype         \n",
            "---  ------       --------------  -----         \n",
            " 0   Fecha        4 non-null      datetime64[ns]\n",
            " 1   Temperatura  4 non-null      int64         \n",
            " 2   Dia          4 non-null      int32         \n",
            " 3   Mes          4 non-null      int32         \n",
            " 4   Year         4 non-null      int32         \n",
            "dtypes: datetime64[ns](1), int32(3), int64(1)\n",
            "memory usage: 244.0 bytes\n"
          ]
        }
      ],
      "source": [
        "data2.info()"
      ]
    },
    {
      "cell_type": "markdown",
      "metadata": {
        "id": "Sj_98eHr7voy"
      },
      "source": [
        "La principal diferencia es que df['Fecha'].dt.day devuelve el día como un número entero, mientras que df['Fecha'].dt.strftime(\"%d\") devuelve el día como una cadena de texto con dos dígitos (agregando un cero al inicio si es necesario para mantener el formato de dos dígitos)"
      ]
    },
    {
      "cell_type": "code",
      "execution_count": 97,
      "metadata": {
        "colab": {
          "base_uri": "https://localhost:8080/",
          "height": 178
        },
        "id": "f4Zch7Vk68g5",
        "outputId": "638897f8-6719-4c62-f945-4f734c57ad9a"
      },
      "outputs": [
        {
          "data": {
            "text/plain": [
              "Mes\n",
              "1    3\n",
              "2    1\n",
              "dtype: int64"
            ]
          },
          "execution_count": 97,
          "metadata": {},
          "output_type": "execute_result"
        }
      ],
      "source": [
        "agrupacion= data2.groupby(data2.Mes).size()\n",
        "agrupacion"
      ]
    },
    {
      "cell_type": "code",
      "execution_count": 98,
      "metadata": {
        "colab": {
          "base_uri": "https://localhost:8080/",
          "height": 466
        },
        "id": "K_iSlfBh7a6u",
        "outputId": "d02a2b23-4cfa-4cd4-dc18-7403bc95ecdd"
      },
      "outputs": [
        {
          "data": {
            "text/plain": [
              "<Axes: xlabel='Mes', ylabel='None'>"
            ]
          },
          "execution_count": 98,
          "metadata": {},
          "output_type": "execute_result"
        },
        {
          "data": {
            "image/png": "[encoded data removed]",
            "text/plain": [
              "<Figure size 640x480 with 1 Axes>"
            ]
          },
          "metadata": {},
          "output_type": "display_data"
        }
      ],
      "source": [
        "sns.barplot(x=agrupacion.index, y=agrupacion)"
      ]
    },
    {
      "cell_type": "code",
      "execution_count": 99,
      "metadata": {
        "colab": {
          "base_uri": "https://localhost:8080/",
          "height": 178
        },
        "id": "28ZZuU9d77k1",
        "outputId": "d1edab67-e143-43b2-bfdf-6677afada8a9"
      },
      "outputs": [
        {
          "data": {
            "text/plain": [
              "Fecha\n",
              "2023-01    3\n",
              "2023-02    1\n",
              "Freq: M, dtype: int64"
            ]
          },
          "execution_count": 99,
          "metadata": {},
          "output_type": "execute_result"
        }
      ],
      "source": [
        "agrupadoV2= data2.groupby(data2['Fecha'].dt.to_period('M')).size()\n",
        "agrupadoV2"
      ]
    },
    {
      "cell_type": "markdown",
      "metadata": {
        "id": "bckb0eO4xV08"
      },
      "source": [
        "# Marcas más robadas"
      ]
    },
    {
      "cell_type": "code",
      "execution_count": 100,
      "metadata": {
        "colab": {
          "base_uri": "https://localhost:8080/",
          "height": 1000
        },
        "id": "ISZAKaKHeels",
        "outputId": "3cb3aa19-e4c1-4365-a9e8-902be32c7f8c"
      },
      "outputs": [
        {
          "data": {
            "text/plain": [
              "automotor_marca_descripcion\n",
              "VOLKSWAGEN    5754\n",
              "FIAT          4128\n",
              "TOYOTA        3668\n",
              "FORD          3336\n",
              "RENAULT       3291\n",
              "              ... \n",
              "SMART            1\n",
              "MINI             1\n",
              "JETOUR           1\n",
              "CHANGAN          1\n",
              "IKA              1\n",
              "Name: count, Length: 98, dtype: int64"
            ]
          },
          "execution_count": 100,
          "metadata": {},
          "output_type": "execute_result"
        }
      ],
      "source": [
        "df2['automotor_marca_descripcion'].value_counts()\n",
        "\n",
        "#VOLSKWAGEN"
      ]
    },
    {
      "cell_type": "code",
      "execution_count": 101,
      "metadata": {
        "colab": {
          "base_uri": "https://localhost:8080/",
          "height": 429
        },
        "id": "X5SNDZyM-582",
        "outputId": "69528519-cd48-42a0-d72f-e36d1d8d696c"
      },
      "outputs": [
        {
          "data": {
            "text/plain": [
              "automotor_marca_descripcion\n",
              "VOLKSWAGEN       5754\n",
              "FIAT             4128\n",
              "TOYOTA           3668\n",
              "FORD             3336\n",
              "RENAULT          3291\n",
              "CHEVROLET        3172\n",
              "PEUGEOT          2817\n",
              "CITROEN          1154\n",
              "MERCEDES BENZ     830\n",
              "NISSAN            781\n",
              "Name: count, dtype: int64"
            ]
          },
          "execution_count": 101,
          "metadata": {},
          "output_type": "execute_result"
        }
      ],
      "source": [
        "top10= (df2['automotor_marca_descripcion'].value_counts())[:10]\n",
        "top10"
      ]
    },
    {
      "cell_type": "code",
      "execution_count": 102,
      "metadata": {
        "colab": {
          "base_uri": "https://localhost:8080/",
          "height": 686
        },
        "id": "zBEmFhGbxZa5",
        "outputId": "aababd9f-af55-439c-884e-93f61a1c1efb"
      },
      "outputs": [
        {
          "data": {
            "text/plain": [
              "<Axes: title={'center': 'Marcas más robadas'}, xlabel='automotor_marca_descripcion', ylabel='Frecuencia'>"
            ]
          },
          "execution_count": 102,
          "metadata": {},
          "output_type": "execute_result"
        },
        {
          "data": {
            "image/png": "[encoded data removed]",
            "text/plain": [
              "<Figure size 1200x600 with 1 Axes>"
            ]
          },
          "metadata": {},
          "output_type": "display_data"
        }
      ],
      "source": [
        "(df2['automotor_marca_descripcion'].value_counts()[:10]).plot(kind='bar', figsize=(12,6), ylabel='Frecuencia', title='Marcas más robadas')\n",
        "\n",
        "#trazado integrada de pandas. Aquí se utiliza el método plot() de pandas con el argumento kind='bar' para crear un gráfico de barras"
      ]
    },
    {
      "cell_type": "code",
      "execution_count": 103,
      "metadata": {
        "colab": {
          "base_uri": "https://localhost:8080/",
          "height": 1000
        },
        "id": "1KoOFSHle1Y8",
        "outputId": "ad42d452-2bb6-48fd-8f23-33029c7945ba"
      },
      "outputs": [
        {
          "data": {
            "text/plain": [
              "automotor_modelo_descripcion\n",
              "CRONOS DRIVE 1.3 GSE BZ               1114\n",
              "NUEVO POLO TRACK MSI MT                975\n",
              "TAOS COMFORTLINE 250 TSI AT            391\n",
              "208 ALLURE AM25                        375\n",
              "RENEGADE SPORT 1.8L AT6 FWD            298\n",
              "STRADA FREEDOM 1.3 CD                  251\n",
              "YARIS XS 1.5 6M/T                      233\n",
              "TRACKER 1.2T AT                        227\n",
              "KANGOO EXPRESS 5A 1.6 SCE 114          221\n",
              "CRONOS PRECISION 1.3 GSE CVT BZ        218\n",
              "NIVUS 170 TSI MT                       217\n",
              "FIORINO ENDURANCE 1.4 MT               214\n",
              "NIVUS COMFORTLINE 200 TSI AT           210\n",
              "GOL TREND 1.6                          206\n",
              "HILUX 4X4 DC DX 2.4 TDI 6 MT           200\n",
              "CRONOS STILE 1.3 GSE BZ                188\n",
              "208 FELINE AT AM24.5                   174\n",
              "KANGOO EXPRESS 2A 1.6 SCE 114          173\n",
              "AMAROK TRENDLINE CD TDI MT 4X2         168\n",
              "TRACKER 1.2T MT                        165\n",
              "T-CROSS TRENDLINE 170TSI MT G1         154\n",
              "RANGER DC XL 2.0L T 4X4 MT D           151\n",
              "ONIX 1.0T MT LTZ                       150\n",
              "208 ACTIVE PK AM24.5                   149\n",
              "RANGER DC XLS 3.0L V6 4X4 10AT D       142\n",
              "RANGER DC XLT 2.0L BIT 4X2 10AT D      141\n",
              "SANDERO LIFE 1.6                       140\n",
              "STEPWAY INTENS 1.6                     137\n",
              "S10 2.8TD 4X2 LS                       136\n",
              "RENEGADE LONGITUDE T270 AT6 FWD        134\n",
              "208 ACTIVE PK AT AM24.5                133\n",
              "208 ALLURE AT AM25                     132\n",
              "YARIS XLS 1.5 6M/T                     128\n",
              "HILUX 4X4 DC SRX 2.8 TDI 6 AT          128\n",
              "RANGER DC XL 2.0L T 4X2 MT D           126\n",
              "TORO FREEDOM 1.8 CD AT6 4X2            124\n",
              "RANGER DC XLT 2.0L BIT 4X4 10AT D      122\n",
              "PARTNER CONFORT 1.6 HDI 92 AM22.5      119\n",
              "CRONOS DRIVE 1.3 GSE CVT BZ            117\n",
              "YARIS XLS 1.5 CVT                      115\n",
              "TERRITORY 1.8L GAS AT TITANIUM EU5     113\n",
              "COROLLA CROSS SEG HEV 1.8 ECVT         113\n",
              "CRONOS DRIVE 1.3 MT                    112\n",
              "MAVERICK XLT 2.0L 4X2 AT               111\n",
              "RANGER DC LTD+ 3.0L V6 4X4 10AT D      108\n",
              "KANGOO II STEPWAY 1.6 SCE              107\n",
              "TAOS HIGHLINE 250 TSI AT               105\n",
              "FRONTIER X-GEAR 4X4 AT 2.3 D CD        104\n",
              "VOYAGE 1.6                             102\n",
              "LOGAN LIFE 1.6                         100\n",
              "Name: count, dtype: int64"
            ]
          },
          "execution_count": 103,
          "metadata": {},
          "output_type": "execute_result"
        }
      ],
      "source": [
        "df2['automotor_modelo_descripcion'].value_counts()[0:50]"
      ]
    },
    {
      "cell_type": "code",
      "execution_count": 104,
      "metadata": {
        "colab": {
          "base_uri": "https://localhost:8080/",
          "height": 811
        },
        "id": "oSqF4N3Hx_Ji",
        "outputId": "9384cafe-a434-4d10-d254-564595f19e51"
      },
      "outputs": [
        {
          "data": {
            "text/plain": [
              "<Axes: title={'center': 'Modelos más robados'}, xlabel='automotor_modelo_descripcion', ylabel='Frecuencia'>"
            ]
          },
          "execution_count": 104,
          "metadata": {},
          "output_type": "execute_result"
        },
        {
          "data": {
            "image/png": "[encoded data removed]",
            "text/plain": [
              "<Figure size 1200x600 with 1 Axes>"
            ]
          },
          "metadata": {},
          "output_type": "display_data"
        }
      ],
      "source": [
        "(df2['automotor_modelo_descripcion'].value_counts())[0:50].plot(kind='bar', figsize=(12,6), ylabel='Frecuencia', title='Modelos más robados')\n",
        "\n",
        "#tomarlo como un mal ejemplo porque tenemos muchas barras"
      ]
    },
    {
      "cell_type": "code",
      "execution_count": 105,
      "metadata": {
        "colab": {
          "base_uri": "https://localhost:8080/",
          "height": 672
        },
        "id": "IhNkfHPoymQ2",
        "outputId": "3e636b5a-edca-4ac6-99f6-af547a3ceeea"
      },
      "outputs": [
        {
          "data": {
            "text/plain": [
              "<Axes: title={'center': 'Robos por genero'}, xlabel='titular_genero', ylabel='Frecuencia'>"
            ]
          },
          "execution_count": 105,
          "metadata": {},
          "output_type": "execute_result"
        },
        {
          "data": {
            "image/png": "[encoded data removed]",
            "text/plain": [
              "<Figure size 1200x600 with 1 Axes>"
            ]
          },
          "metadata": {},
          "output_type": "display_data"
        }
      ],
      "source": [
        "df2['titular_genero'].value_counts().plot(kind='bar', figsize=(12,6), ylabel='Frecuencia', title='Robos por genero')"
      ]
    },
    {
      "cell_type": "code",
      "execution_count": 106,
      "metadata": {
        "colab": {
          "base_uri": "https://localhost:8080/",
          "height": 691
        },
        "id": "S0cCSp5dysGK",
        "outputId": "4fd301d6-cf2c-490f-f8e8-89dd008864bb"
      },
      "outputs": [
        {
          "data": {
            "text/plain": [
              "<Axes: title={'center': 'Procedencia del titular'}, xlabel='titular_pais_nacimiento', ylabel='Frecuencia'>"
            ]
          },
          "execution_count": 106,
          "metadata": {},
          "output_type": "execute_result"
        },
        {
          "data": {
            "image/png": "[encoded data removed]",
            "text/plain": [
              "<Figure size 1200x600 with 1 Axes>"
            ]
          },
          "metadata": {},
          "output_type": "display_data"
        }
      ],
      "source": [
        "df2['titular_pais_nacimiento'].value_counts().plot(kind='bar', figsize=(12,6), ylabel='Frecuencia', title='Procedencia del titular')"
      ]
    },
    {
      "cell_type": "code",
      "execution_count": 107,
      "metadata": {
        "colab": {
          "base_uri": "https://localhost:8080/",
          "height": 732
        },
        "id": "rX70BiWWy8mh",
        "outputId": "a956a0f8-822e-4d60-a466-46e1a8f759a9"
      },
      "outputs": [
        {
          "data": {
            "text/plain": [
              "<Axes: title={'center': 'Procedencia del titular'}, xlabel='titular_domicilio_provincia', ylabel='Frecuencia'>"
            ]
          },
          "execution_count": 107,
          "metadata": {},
          "output_type": "execute_result"
        },
        {
          "data": {
            "image/png": "[encoded data removed]",
            "text/plain": [
              "<Figure size 1200x600 with 1 Axes>"
            ]
          },
          "metadata": {},
          "output_type": "display_data"
        }
      ],
      "source": [
        "df2['titular_domicilio_provincia'].value_counts().plot(kind='bar', figsize=(12,6), ylabel='Frecuencia', title='Procedencia del titular')"
      ]
    },
    {
      "cell_type": "markdown",
      "metadata": {
        "id": "rBuuXrQtDDpH"
      },
      "source": [
        "# JSON"
      ]
    },
    {
      "cell_type": "code",
      "execution_count": 108,
      "metadata": {
        "colab": {
          "base_uri": "https://localhost:8080/",
          "height": 143
        },
        "id": "uYOes1C-DlQC",
        "outputId": "fc71aced-501c-4e31-e719-9f63a8b7e43e"
      },
      "outputs": [
        {
          "data": {
            "text/html": [
              "<div>\n",
              "<style scoped>\n",
              "    .dataframe tbody tr th:only-of-type {\n",
              "        vertical-align: middle;\n",
              "    }\n",
              "\n",
              "    .dataframe tbody tr th {\n",
              "        vertical-align: top;\n",
              "    }\n",
              "\n",
              "    .dataframe thead th {\n",
              "        text-align: right;\n",
              "    }\n",
              "</style>\n",
              "<table border=\"1\" class=\"dataframe\">\n",
              "  <thead>\n",
              "    <tr style=\"text-align: right;\">\n",
              "      <th></th>\n",
              "      <th>id</th>\n",
              "      <th>name</th>\n",
              "      <th>math</th>\n",
              "      <th>physics</th>\n",
              "      <th>chemistry</th>\n",
              "    </tr>\n",
              "  </thead>\n",
              "  <tbody>\n",
              "    <tr>\n",
              "      <th>0</th>\n",
              "      <td>A001</td>\n",
              "      <td>Tom</td>\n",
              "      <td>60</td>\n",
              "      <td>66</td>\n",
              "      <td>61</td>\n",
              "    </tr>\n",
              "    <tr>\n",
              "      <th>1</th>\n",
              "      <td>A002</td>\n",
              "      <td>James</td>\n",
              "      <td>89</td>\n",
              "      <td>76</td>\n",
              "      <td>51</td>\n",
              "    </tr>\n",
              "    <tr>\n",
              "      <th>2</th>\n",
              "      <td>A003</td>\n",
              "      <td>Jenny</td>\n",
              "      <td>79</td>\n",
              "      <td>90</td>\n",
              "      <td>78</td>\n",
              "    </tr>\n",
              "  </tbody>\n",
              "</table>\n",
              "</div>"
            ],
            "text/plain": [
              "     id   name  math  physics  chemistry\n",
              "0  A001    Tom    60       66         61\n",
              "1  A002  James    89       76         51\n",
              "2  A003  Jenny    79       90         78"
            ]
          },
          "execution_count": 108,
          "metadata": {},
          "output_type": "execute_result"
        }
      ],
      "source": [
        "# De una URL\n",
        "URL = 'http://raw.githubusercontent.com/BindiChen/machine-learning/master/data-analysis/027-pandas-convert-json/data/simple.json'\n",
        "df = pd.read_json(URL)\n",
        "df.head(10)"
      ]
    },
    {
      "cell_type": "code",
      "execution_count": 109,
      "metadata": {
        "colab": {
          "base_uri": "https://localhost:8080/",
          "height": 143
        },
        "id": "BFSgC47eDlW7",
        "outputId": "715861ef-25dd-4afa-df0a-90dcfd8f3679"
      },
      "outputs": [
        {
          "data": {
            "text/html": [
              "<div>\n",
              "<style scoped>\n",
              "    .dataframe tbody tr th:only-of-type {\n",
              "        vertical-align: middle;\n",
              "    }\n",
              "\n",
              "    .dataframe tbody tr th {\n",
              "        vertical-align: top;\n",
              "    }\n",
              "\n",
              "    .dataframe thead th {\n",
              "        text-align: right;\n",
              "    }\n",
              "</style>\n",
              "<table border=\"1\" class=\"dataframe\">\n",
              "  <thead>\n",
              "    <tr style=\"text-align: right;\">\n",
              "      <th></th>\n",
              "      <th>school_name</th>\n",
              "      <th>class</th>\n",
              "      <th>students</th>\n",
              "    </tr>\n",
              "  </thead>\n",
              "  <tbody>\n",
              "    <tr>\n",
              "      <th>0</th>\n",
              "      <td>ABC primary school</td>\n",
              "      <td>Year 1</td>\n",
              "      <td>{'id': 'A001', 'name': 'Tom', 'math': 60, 'phy...</td>\n",
              "    </tr>\n",
              "    <tr>\n",
              "      <th>1</th>\n",
              "      <td>ABC primary school</td>\n",
              "      <td>Year 1</td>\n",
              "      <td>{'id': 'A002', 'name': 'James', 'math': 89, 'p...</td>\n",
              "    </tr>\n",
              "    <tr>\n",
              "      <th>2</th>\n",
              "      <td>ABC primary school</td>\n",
              "      <td>Year 1</td>\n",
              "      <td>{'id': 'A003', 'name': 'Jenny', 'math': 79, 'p...</td>\n",
              "    </tr>\n",
              "  </tbody>\n",
              "</table>\n",
              "</div>"
            ],
            "text/plain": [
              "          school_name   class  \\\n",
              "0  ABC primary school  Year 1   \n",
              "1  ABC primary school  Year 1   \n",
              "2  ABC primary school  Year 1   \n",
              "\n",
              "                                            students  \n",
              "0  {'id': 'A001', 'name': 'Tom', 'math': 60, 'phy...  \n",
              "1  {'id': 'A002', 'name': 'James', 'math': 89, 'p...  \n",
              "2  {'id': 'A003', 'name': 'Jenny', 'math': 79, 'p...  "
            ]
          },
          "execution_count": 109,
          "metadata": {},
          "output_type": "execute_result"
        }
      ],
      "source": [
        "# Miremos este caso especial\n",
        "df_json = pd.read_json('json-datasets/nested_json.json')\n",
        "df_json # tenemos un JSON nested"
      ]
    },
    {
      "cell_type": "code",
      "execution_count": 110,
      "metadata": {
        "id": "Aqk5r6Rbk86e"
      },
      "outputs": [],
      "source": [
        "import json\n",
        "\n",
        "# Abrir el archivo JSON\n",
        "with open('json-datasets/nested_json.json', 'r') as file:\n",
        "    # Cargar el contenido del archivo en una variable\n",
        "    data = json.load(file)"
      ]
    },
    {
      "cell_type": "code",
      "execution_count": 111,
      "metadata": {
        "colab": {
          "base_uri": "https://localhost:8080/"
        },
        "id": "Wpvnr4AQkMbT",
        "outputId": "f096c1e9-c995-4b0f-e6ab-76f0e120d676"
      },
      "outputs": [
        {
          "data": {
            "text/plain": [
              "{'school_name': 'ABC primary school',\n",
              " 'class': 'Year 1',\n",
              " 'students': [{'id': 'A001',\n",
              "   'name': 'Tom',\n",
              "   'math': 60,\n",
              "   'physics': 66,\n",
              "   'chemistry': 61},\n",
              "  {'id': 'A002', 'name': 'James', 'math': 89, 'physics': 76, 'chemistry': 51},\n",
              "  {'id': 'A003', 'name': 'Jenny', 'math': 79, 'physics': 90, 'chemistry': 78}]}"
            ]
          },
          "execution_count": 111,
          "metadata": {},
          "output_type": "execute_result"
        }
      ],
      "source": [
        "data"
      ]
    },
    {
      "cell_type": "code",
      "execution_count": 112,
      "metadata": {
        "colab": {
          "base_uri": "https://localhost:8080/",
          "height": 143
        },
        "id": "hKutg6RulVT3",
        "outputId": "a49a1598-c3a9-4210-99d6-08ae66df3b0a"
      },
      "outputs": [
        {
          "data": {
            "text/html": [
              "<div>\n",
              "<style scoped>\n",
              "    .dataframe tbody tr th:only-of-type {\n",
              "        vertical-align: middle;\n",
              "    }\n",
              "\n",
              "    .dataframe tbody tr th {\n",
              "        vertical-align: top;\n",
              "    }\n",
              "\n",
              "    .dataframe thead th {\n",
              "        text-align: right;\n",
              "    }\n",
              "</style>\n",
              "<table border=\"1\" class=\"dataframe\">\n",
              "  <thead>\n",
              "    <tr style=\"text-align: right;\">\n",
              "      <th></th>\n",
              "      <th>id</th>\n",
              "      <th>name</th>\n",
              "      <th>math</th>\n",
              "      <th>physics</th>\n",
              "      <th>chemistry</th>\n",
              "      <th>school_name</th>\n",
              "      <th>class</th>\n",
              "    </tr>\n",
              "  </thead>\n",
              "  <tbody>\n",
              "    <tr>\n",
              "      <th>0</th>\n",
              "      <td>A001</td>\n",
              "      <td>Tom</td>\n",
              "      <td>60</td>\n",
              "      <td>66</td>\n",
              "      <td>61</td>\n",
              "      <td>ABC primary school</td>\n",
              "      <td>Year 1</td>\n",
              "    </tr>\n",
              "    <tr>\n",
              "      <th>1</th>\n",
              "      <td>A002</td>\n",
              "      <td>James</td>\n",
              "      <td>89</td>\n",
              "      <td>76</td>\n",
              "      <td>51</td>\n",
              "      <td>ABC primary school</td>\n",
              "      <td>Year 1</td>\n",
              "    </tr>\n",
              "    <tr>\n",
              "      <th>2</th>\n",
              "      <td>A003</td>\n",
              "      <td>Jenny</td>\n",
              "      <td>79</td>\n",
              "      <td>90</td>\n",
              "      <td>78</td>\n",
              "      <td>ABC primary school</td>\n",
              "      <td>Year 1</td>\n",
              "    </tr>\n",
              "  </tbody>\n",
              "</table>\n",
              "</div>"
            ],
            "text/plain": [
              "     id   name  math  physics  chemistry         school_name   class\n",
              "0  A001    Tom    60       66         61  ABC primary school  Year 1\n",
              "1  A002  James    89       76         51  ABC primary school  Year 1\n",
              "2  A003  Jenny    79       90         78  ABC primary school  Year 1"
            ]
          },
          "execution_count": 112,
          "metadata": {},
          "output_type": "execute_result"
        }
      ],
      "source": [
        "# Abrir el JSON con pandas\n",
        "df = pd.json_normalize(data, 'students', ['school_name', 'class'])\n",
        "df"
      ]
    },
    {
      "cell_type": "code",
      "execution_count": 113,
      "metadata": {
        "colab": {
          "base_uri": "https://localhost:8080/"
        },
        "id": "H-rOlYQeFmVw",
        "outputId": "1bcb4731-f92b-41f3-874c-f677af97491b"
      },
      "outputs": [
        {
          "data": {
            "text/plain": [
              "{'school_name': 'ABC primary school',\n",
              " 'class': 'Year 1',\n",
              " 'students': [{'id': 'A001',\n",
              "   'name': 'Tom',\n",
              "   'math': 60,\n",
              "   'physics': 66,\n",
              "   'chemistry': 61},\n",
              "  {'id': 'A002', 'name': 'James', 'math': 89, 'physics': 76, 'chemistry': 51},\n",
              "  {'id': 'A003', 'name': 'Jenny', 'math': 79, 'physics': 90, 'chemistry': 78}]}"
            ]
          },
          "execution_count": 113,
          "metadata": {},
          "output_type": "execute_result"
        }
      ],
      "source": [
        "data"
      ]
    },
    {
      "cell_type": "markdown",
      "metadata": {
        "id": "NxcCWbVVnrbf"
      },
      "source": [
        "#Tan solo para practicar hagamos el camino más complicado:"
      ]
    },
    {
      "cell_type": "code",
      "execution_count": 114,
      "metadata": {
        "colab": {
          "base_uri": "https://localhost:8080/",
          "height": 143
        },
        "id": "e3K5qiLdny04",
        "outputId": "76570741-a339-4883-a8d1-dfdb5d6b0061"
      },
      "outputs": [
        {
          "data": {
            "text/html": [
              "<div>\n",
              "<style scoped>\n",
              "    .dataframe tbody tr th:only-of-type {\n",
              "        vertical-align: middle;\n",
              "    }\n",
              "\n",
              "    .dataframe tbody tr th {\n",
              "        vertical-align: top;\n",
              "    }\n",
              "\n",
              "    .dataframe thead th {\n",
              "        text-align: right;\n",
              "    }\n",
              "</style>\n",
              "<table border=\"1\" class=\"dataframe\">\n",
              "  <thead>\n",
              "    <tr style=\"text-align: right;\">\n",
              "      <th></th>\n",
              "      <th>id</th>\n",
              "      <th>name</th>\n",
              "      <th>math</th>\n",
              "      <th>physics</th>\n",
              "      <th>chemistry</th>\n",
              "    </tr>\n",
              "  </thead>\n",
              "  <tbody>\n",
              "    <tr>\n",
              "      <th>0</th>\n",
              "      <td>A001</td>\n",
              "      <td>Tom</td>\n",
              "      <td>60</td>\n",
              "      <td>66</td>\n",
              "      <td>61</td>\n",
              "    </tr>\n",
              "    <tr>\n",
              "      <th>1</th>\n",
              "      <td>A002</td>\n",
              "      <td>James</td>\n",
              "      <td>89</td>\n",
              "      <td>76</td>\n",
              "      <td>51</td>\n",
              "    </tr>\n",
              "    <tr>\n",
              "      <th>2</th>\n",
              "      <td>A003</td>\n",
              "      <td>Jenny</td>\n",
              "      <td>79</td>\n",
              "      <td>90</td>\n",
              "      <td>78</td>\n",
              "    </tr>\n",
              "  </tbody>\n",
              "</table>\n",
              "</div>"
            ],
            "text/plain": [
              "     id   name  math  physics  chemistry\n",
              "0  A001    Tom    60       66         61\n",
              "1  A002  James    89       76         51\n",
              "2  A003  Jenny    79       90         78"
            ]
          },
          "execution_count": 114,
          "metadata": {},
          "output_type": "execute_result"
        }
      ],
      "source": [
        "#Creamos las listas para introducir adentro los datos de los diccionarios id \tname \tmath \tphysics \tchemistry\n",
        "id=[]\n",
        "name=[]\n",
        "math=[]\n",
        "physics=[]\n",
        "chemistry=[]\n",
        "\n",
        "for i in data[\"students\"]:\n",
        "    id.append(i[\"id\"])\n",
        "    name.append(i[\"name\"])\n",
        "    math.append(i[\"math\"])\n",
        "    physics.append(i[\"physics\"])\n",
        "    chemistry.append(i[\"chemistry\"])\n",
        "\n",
        "df_practica= pd.DataFrame({\"id\":id, \"name\":name, \"math\":math, \"physics\": physics, \"chemistry\": chemistry})\n",
        "df_practica"
      ]
    },
    {
      "cell_type": "code",
      "execution_count": 115,
      "metadata": {
        "colab": {
          "base_uri": "https://localhost:8080/",
          "height": 143
        },
        "id": "N82BtCKbIoy-",
        "outputId": "a0c88f57-6ad1-4e49-836a-7c71c94ffb12"
      },
      "outputs": [
        {
          "data": {
            "text/html": [
              "<div>\n",
              "<style scoped>\n",
              "    .dataframe tbody tr th:only-of-type {\n",
              "        vertical-align: middle;\n",
              "    }\n",
              "\n",
              "    .dataframe tbody tr th {\n",
              "        vertical-align: top;\n",
              "    }\n",
              "\n",
              "    .dataframe thead th {\n",
              "        text-align: right;\n",
              "    }\n",
              "</style>\n",
              "<table border=\"1\" class=\"dataframe\">\n",
              "  <thead>\n",
              "    <tr style=\"text-align: right;\">\n",
              "      <th></th>\n",
              "      <th>school_name</th>\n",
              "      <th>class</th>\n",
              "      <th>students</th>\n",
              "    </tr>\n",
              "  </thead>\n",
              "  <tbody>\n",
              "    <tr>\n",
              "      <th>0</th>\n",
              "      <td>ABC primary school</td>\n",
              "      <td>Year 1</td>\n",
              "      <td>{'id': 'A001', 'name': 'Tom', 'math': 60, 'phy...</td>\n",
              "    </tr>\n",
              "    <tr>\n",
              "      <th>1</th>\n",
              "      <td>ABC primary school</td>\n",
              "      <td>Year 1</td>\n",
              "      <td>{'id': 'A002', 'name': 'James', 'math': 89, 'p...</td>\n",
              "    </tr>\n",
              "    <tr>\n",
              "      <th>2</th>\n",
              "      <td>ABC primary school</td>\n",
              "      <td>Year 1</td>\n",
              "      <td>{'id': 'A003', 'name': 'Jenny', 'math': 79, 'p...</td>\n",
              "    </tr>\n",
              "  </tbody>\n",
              "</table>\n",
              "</div>"
            ],
            "text/plain": [
              "          school_name   class  \\\n",
              "0  ABC primary school  Year 1   \n",
              "1  ABC primary school  Year 1   \n",
              "2  ABC primary school  Year 1   \n",
              "\n",
              "                                            students  \n",
              "0  {'id': 'A001', 'name': 'Tom', 'math': 60, 'phy...  \n",
              "1  {'id': 'A002', 'name': 'James', 'math': 89, 'p...  \n",
              "2  {'id': 'A003', 'name': 'Jenny', 'math': 79, 'p...  "
            ]
          },
          "execution_count": 115,
          "metadata": {},
          "output_type": "execute_result"
        }
      ],
      "source": [
        "df_json"
      ]
    },
    {
      "cell_type": "code",
      "execution_count": 116,
      "metadata": {
        "colab": {
          "base_uri": "https://localhost:8080/",
          "height": 143
        },
        "id": "d4zFZf5Lq55y",
        "outputId": "a7b46dbe-e314-4200-d5a3-caad7aaab43a"
      },
      "outputs": [
        {
          "data": {
            "text/html": [
              "<div>\n",
              "<style scoped>\n",
              "    .dataframe tbody tr th:only-of-type {\n",
              "        vertical-align: middle;\n",
              "    }\n",
              "\n",
              "    .dataframe tbody tr th {\n",
              "        vertical-align: top;\n",
              "    }\n",
              "\n",
              "    .dataframe thead th {\n",
              "        text-align: right;\n",
              "    }\n",
              "</style>\n",
              "<table border=\"1\" class=\"dataframe\">\n",
              "  <thead>\n",
              "    <tr style=\"text-align: right;\">\n",
              "      <th></th>\n",
              "      <th>id</th>\n",
              "      <th>name</th>\n",
              "      <th>math</th>\n",
              "      <th>physics</th>\n",
              "      <th>chemistry</th>\n",
              "      <th>school_name</th>\n",
              "      <th>class</th>\n",
              "      <th>students</th>\n",
              "    </tr>\n",
              "  </thead>\n",
              "  <tbody>\n",
              "    <tr>\n",
              "      <th>0</th>\n",
              "      <td>A001</td>\n",
              "      <td>Tom</td>\n",
              "      <td>60</td>\n",
              "      <td>66</td>\n",
              "      <td>61</td>\n",
              "      <td>ABC primary school</td>\n",
              "      <td>Year 1</td>\n",
              "      <td>{'id': 'A001', 'name': 'Tom', 'math': 60, 'phy...</td>\n",
              "    </tr>\n",
              "    <tr>\n",
              "      <th>1</th>\n",
              "      <td>A002</td>\n",
              "      <td>James</td>\n",
              "      <td>89</td>\n",
              "      <td>76</td>\n",
              "      <td>51</td>\n",
              "      <td>ABC primary school</td>\n",
              "      <td>Year 1</td>\n",
              "      <td>{'id': 'A002', 'name': 'James', 'math': 89, 'p...</td>\n",
              "    </tr>\n",
              "    <tr>\n",
              "      <th>2</th>\n",
              "      <td>A003</td>\n",
              "      <td>Jenny</td>\n",
              "      <td>79</td>\n",
              "      <td>90</td>\n",
              "      <td>78</td>\n",
              "      <td>ABC primary school</td>\n",
              "      <td>Year 1</td>\n",
              "      <td>{'id': 'A003', 'name': 'Jenny', 'math': 79, 'p...</td>\n",
              "    </tr>\n",
              "  </tbody>\n",
              "</table>\n",
              "</div>"
            ],
            "text/plain": [
              "     id   name  math  physics  chemistry         school_name   class  \\\n",
              "0  A001    Tom    60       66         61  ABC primary school  Year 1   \n",
              "1  A002  James    89       76         51  ABC primary school  Year 1   \n",
              "2  A003  Jenny    79       90         78  ABC primary school  Year 1   \n",
              "\n",
              "                                            students  \n",
              "0  {'id': 'A001', 'name': 'Tom', 'math': 60, 'phy...  \n",
              "1  {'id': 'A002', 'name': 'James', 'math': 89, 'p...  \n",
              "2  {'id': 'A003', 'name': 'Jenny', 'math': 79, 'p...  "
            ]
          },
          "execution_count": 116,
          "metadata": {},
          "output_type": "execute_result"
        }
      ],
      "source": [
        "df_final=pd.concat([df_practica, df_json], axis=1)\n",
        "df_final"
      ]
    },
    {
      "cell_type": "code",
      "execution_count": 117,
      "metadata": {
        "colab": {
          "base_uri": "https://localhost:8080/",
          "height": 143
        },
        "id": "khjvIltOIsft",
        "outputId": "3ad5c17e-70d2-4e9e-d816-5bdb9ff45e1c"
      },
      "outputs": [
        {
          "data": {
            "text/html": [
              "<div>\n",
              "<style scoped>\n",
              "    .dataframe tbody tr th:only-of-type {\n",
              "        vertical-align: middle;\n",
              "    }\n",
              "\n",
              "    .dataframe tbody tr th {\n",
              "        vertical-align: top;\n",
              "    }\n",
              "\n",
              "    .dataframe thead th {\n",
              "        text-align: right;\n",
              "    }\n",
              "</style>\n",
              "<table border=\"1\" class=\"dataframe\">\n",
              "  <thead>\n",
              "    <tr style=\"text-align: right;\">\n",
              "      <th></th>\n",
              "      <th>id</th>\n",
              "      <th>name</th>\n",
              "      <th>math</th>\n",
              "      <th>physics</th>\n",
              "      <th>chemistry</th>\n",
              "      <th>school_name</th>\n",
              "      <th>class</th>\n",
              "    </tr>\n",
              "  </thead>\n",
              "  <tbody>\n",
              "    <tr>\n",
              "      <th>0</th>\n",
              "      <td>A001</td>\n",
              "      <td>Tom</td>\n",
              "      <td>60</td>\n",
              "      <td>66</td>\n",
              "      <td>61</td>\n",
              "      <td>ABC primary school</td>\n",
              "      <td>Year 1</td>\n",
              "    </tr>\n",
              "    <tr>\n",
              "      <th>1</th>\n",
              "      <td>A002</td>\n",
              "      <td>James</td>\n",
              "      <td>89</td>\n",
              "      <td>76</td>\n",
              "      <td>51</td>\n",
              "      <td>ABC primary school</td>\n",
              "      <td>Year 1</td>\n",
              "    </tr>\n",
              "    <tr>\n",
              "      <th>2</th>\n",
              "      <td>A003</td>\n",
              "      <td>Jenny</td>\n",
              "      <td>79</td>\n",
              "      <td>90</td>\n",
              "      <td>78</td>\n",
              "      <td>ABC primary school</td>\n",
              "      <td>Year 1</td>\n",
              "    </tr>\n",
              "  </tbody>\n",
              "</table>\n",
              "</div>"
            ],
            "text/plain": [
              "     id   name  math  physics  chemistry         school_name   class\n",
              "0  A001    Tom    60       66         61  ABC primary school  Year 1\n",
              "1  A002  James    89       76         51  ABC primary school  Year 1\n",
              "2  A003  Jenny    79       90         78  ABC primary school  Year 1"
            ]
          },
          "execution_count": 117,
          "metadata": {},
          "output_type": "execute_result"
        }
      ],
      "source": [
        "df_final.drop(\"students\", axis=1, inplace=True)\n",
        "df_final"
      ]
    },
    {
      "cell_type": "code",
      "execution_count": 118,
      "metadata": {
        "colab": {
          "base_uri": "https://localhost:8080/",
          "height": 143
        },
        "id": "gwPQ_2oTGL67",
        "outputId": "c0b945c3-0724-4ccc-845e-d67d58580d5f"
      },
      "outputs": [
        {
          "data": {
            "text/html": [
              "<div>\n",
              "<style scoped>\n",
              "    .dataframe tbody tr th:only-of-type {\n",
              "        vertical-align: middle;\n",
              "    }\n",
              "\n",
              "    .dataframe tbody tr th {\n",
              "        vertical-align: top;\n",
              "    }\n",
              "\n",
              "    .dataframe thead th {\n",
              "        text-align: right;\n",
              "    }\n",
              "</style>\n",
              "<table border=\"1\" class=\"dataframe\">\n",
              "  <thead>\n",
              "    <tr style=\"text-align: right;\">\n",
              "      <th></th>\n",
              "      <th>id</th>\n",
              "      <th>name</th>\n",
              "      <th>math</th>\n",
              "      <th>physics</th>\n",
              "      <th>chemistry</th>\n",
              "    </tr>\n",
              "  </thead>\n",
              "  <tbody>\n",
              "    <tr>\n",
              "      <th>0</th>\n",
              "      <td>A001</td>\n",
              "      <td>Tom</td>\n",
              "      <td>60</td>\n",
              "      <td>66</td>\n",
              "      <td>61</td>\n",
              "    </tr>\n",
              "    <tr>\n",
              "      <th>1</th>\n",
              "      <td>A002</td>\n",
              "      <td>James</td>\n",
              "      <td>89</td>\n",
              "      <td>76</td>\n",
              "      <td>51</td>\n",
              "    </tr>\n",
              "    <tr>\n",
              "      <th>2</th>\n",
              "      <td>A003</td>\n",
              "      <td>Jenny</td>\n",
              "      <td>79</td>\n",
              "      <td>90</td>\n",
              "      <td>78</td>\n",
              "    </tr>\n",
              "  </tbody>\n",
              "</table>\n",
              "</div>"
            ],
            "text/plain": [
              "     id   name  math  physics  chemistry\n",
              "0  A001    Tom    60       66         61\n",
              "1  A002  James    89       76         51\n",
              "2  A003  Jenny    79       90         78"
            ]
          },
          "execution_count": 118,
          "metadata": {},
          "output_type": "execute_result"
        }
      ],
      "source": [
        "df_practica\n"
      ]
    },
    {
      "cell_type": "code",
      "execution_count": 119,
      "metadata": {
        "colab": {
          "base_uri": "https://localhost:8080/",
          "height": 143
        },
        "id": "Uyl8ULwFGWbi",
        "outputId": "c48c0852-43e1-4d06-b338-e0f94f1f4754"
      },
      "outputs": [
        {
          "data": {
            "text/html": [
              "<div>\n",
              "<style scoped>\n",
              "    .dataframe tbody tr th:only-of-type {\n",
              "        vertical-align: middle;\n",
              "    }\n",
              "\n",
              "    .dataframe tbody tr th {\n",
              "        vertical-align: top;\n",
              "    }\n",
              "\n",
              "    .dataframe thead th {\n",
              "        text-align: right;\n",
              "    }\n",
              "</style>\n",
              "<table border=\"1\" class=\"dataframe\">\n",
              "  <thead>\n",
              "    <tr style=\"text-align: right;\">\n",
              "      <th></th>\n",
              "      <th>school_name</th>\n",
              "      <th>class</th>\n",
              "      <th>students</th>\n",
              "    </tr>\n",
              "  </thead>\n",
              "  <tbody>\n",
              "    <tr>\n",
              "      <th>0</th>\n",
              "      <td>ABC primary school</td>\n",
              "      <td>Year 1</td>\n",
              "      <td>{'id': 'A001', 'name': 'Tom', 'math': 60, 'phy...</td>\n",
              "    </tr>\n",
              "    <tr>\n",
              "      <th>1</th>\n",
              "      <td>ABC primary school</td>\n",
              "      <td>Year 1</td>\n",
              "      <td>{'id': 'A002', 'name': 'James', 'math': 89, 'p...</td>\n",
              "    </tr>\n",
              "    <tr>\n",
              "      <th>2</th>\n",
              "      <td>ABC primary school</td>\n",
              "      <td>Year 1</td>\n",
              "      <td>{'id': 'A003', 'name': 'Jenny', 'math': 79, 'p...</td>\n",
              "    </tr>\n",
              "  </tbody>\n",
              "</table>\n",
              "</div>"
            ],
            "text/plain": [
              "          school_name   class  \\\n",
              "0  ABC primary school  Year 1   \n",
              "1  ABC primary school  Year 1   \n",
              "2  ABC primary school  Year 1   \n",
              "\n",
              "                                            students  \n",
              "0  {'id': 'A001', 'name': 'Tom', 'math': 60, 'phy...  \n",
              "1  {'id': 'A002', 'name': 'James', 'math': 89, 'p...  \n",
              "2  {'id': 'A003', 'name': 'Jenny', 'math': 79, 'p...  "
            ]
          },
          "execution_count": 119,
          "metadata": {},
          "output_type": "execute_result"
        }
      ],
      "source": [
        "df_json"
      ]
    },
    {
      "cell_type": "code",
      "execution_count": 120,
      "metadata": {
        "colab": {
          "base_uri": "https://localhost:8080/",
          "height": 143
        },
        "id": "Pe740IjmJdyV",
        "outputId": "0dc30f61-7825-48ae-dddb-cfa8b456b5f3"
      },
      "outputs": [
        {
          "data": {
            "text/html": [
              "<div>\n",
              "<style scoped>\n",
              "    .dataframe tbody tr th:only-of-type {\n",
              "        vertical-align: middle;\n",
              "    }\n",
              "\n",
              "    .dataframe tbody tr th {\n",
              "        vertical-align: top;\n",
              "    }\n",
              "\n",
              "    .dataframe thead th {\n",
              "        text-align: right;\n",
              "    }\n",
              "</style>\n",
              "<table border=\"1\" class=\"dataframe\">\n",
              "  <thead>\n",
              "    <tr style=\"text-align: right;\">\n",
              "      <th></th>\n",
              "      <th>id</th>\n",
              "      <th>name</th>\n",
              "      <th>math</th>\n",
              "      <th>physics</th>\n",
              "      <th>chemistry</th>\n",
              "    </tr>\n",
              "  </thead>\n",
              "  <tbody>\n",
              "    <tr>\n",
              "      <th>4</th>\n",
              "      <td>A001</td>\n",
              "      <td>Tom</td>\n",
              "      <td>60</td>\n",
              "      <td>66</td>\n",
              "      <td>61</td>\n",
              "    </tr>\n",
              "    <tr>\n",
              "      <th>5</th>\n",
              "      <td>A002</td>\n",
              "      <td>James</td>\n",
              "      <td>89</td>\n",
              "      <td>76</td>\n",
              "      <td>51</td>\n",
              "    </tr>\n",
              "    <tr>\n",
              "      <th>6</th>\n",
              "      <td>A003</td>\n",
              "      <td>Jenny</td>\n",
              "      <td>79</td>\n",
              "      <td>90</td>\n",
              "      <td>78</td>\n",
              "    </tr>\n",
              "  </tbody>\n",
              "</table>\n",
              "</div>"
            ],
            "text/plain": [
              "     id   name  math  physics  chemistry\n",
              "4  A001    Tom    60       66         61\n",
              "5  A002  James    89       76         51\n",
              "6  A003  Jenny    79       90         78"
            ]
          },
          "execution_count": 120,
          "metadata": {},
          "output_type": "execute_result"
        }
      ],
      "source": [
        "# cambiemos el index\n",
        "df_practica.index=[4,5,6]\n",
        "df_practica"
      ]
    },
    {
      "cell_type": "code",
      "execution_count": 121,
      "metadata": {
        "colab": {
          "base_uri": "https://localhost:8080/",
          "height": 237
        },
        "id": "dkZwYx4GJidj",
        "outputId": "baf94213-7c8c-4884-d41f-25c9741ac2ab"
      },
      "outputs": [
        {
          "data": {
            "text/html": [
              "<div>\n",
              "<style scoped>\n",
              "    .dataframe tbody tr th:only-of-type {\n",
              "        vertical-align: middle;\n",
              "    }\n",
              "\n",
              "    .dataframe tbody tr th {\n",
              "        vertical-align: top;\n",
              "    }\n",
              "\n",
              "    .dataframe thead th {\n",
              "        text-align: right;\n",
              "    }\n",
              "</style>\n",
              "<table border=\"1\" class=\"dataframe\">\n",
              "  <thead>\n",
              "    <tr style=\"text-align: right;\">\n",
              "      <th></th>\n",
              "      <th>id</th>\n",
              "      <th>name</th>\n",
              "      <th>math</th>\n",
              "      <th>physics</th>\n",
              "      <th>chemistry</th>\n",
              "      <th>school_name</th>\n",
              "      <th>class</th>\n",
              "      <th>students</th>\n",
              "    </tr>\n",
              "  </thead>\n",
              "  <tbody>\n",
              "    <tr>\n",
              "      <th>4</th>\n",
              "      <td>A001</td>\n",
              "      <td>Tom</td>\n",
              "      <td>60.0</td>\n",
              "      <td>66.0</td>\n",
              "      <td>61.0</td>\n",
              "      <td>NaN</td>\n",
              "      <td>NaN</td>\n",
              "      <td>NaN</td>\n",
              "    </tr>\n",
              "    <tr>\n",
              "      <th>5</th>\n",
              "      <td>A002</td>\n",
              "      <td>James</td>\n",
              "      <td>89.0</td>\n",
              "      <td>76.0</td>\n",
              "      <td>51.0</td>\n",
              "      <td>NaN</td>\n",
              "      <td>NaN</td>\n",
              "      <td>NaN</td>\n",
              "    </tr>\n",
              "    <tr>\n",
              "      <th>6</th>\n",
              "      <td>A003</td>\n",
              "      <td>Jenny</td>\n",
              "      <td>79.0</td>\n",
              "      <td>90.0</td>\n",
              "      <td>78.0</td>\n",
              "      <td>NaN</td>\n",
              "      <td>NaN</td>\n",
              "      <td>NaN</td>\n",
              "    </tr>\n",
              "    <tr>\n",
              "      <th>0</th>\n",
              "      <td>NaN</td>\n",
              "      <td>NaN</td>\n",
              "      <td>NaN</td>\n",
              "      <td>NaN</td>\n",
              "      <td>NaN</td>\n",
              "      <td>ABC primary school</td>\n",
              "      <td>Year 1</td>\n",
              "      <td>{'id': 'A001', 'name': 'Tom', 'math': 60, 'phy...</td>\n",
              "    </tr>\n",
              "    <tr>\n",
              "      <th>1</th>\n",
              "      <td>NaN</td>\n",
              "      <td>NaN</td>\n",
              "      <td>NaN</td>\n",
              "      <td>NaN</td>\n",
              "      <td>NaN</td>\n",
              "      <td>ABC primary school</td>\n",
              "      <td>Year 1</td>\n",
              "      <td>{'id': 'A002', 'name': 'James', 'math': 89, 'p...</td>\n",
              "    </tr>\n",
              "    <tr>\n",
              "      <th>2</th>\n",
              "      <td>NaN</td>\n",
              "      <td>NaN</td>\n",
              "      <td>NaN</td>\n",
              "      <td>NaN</td>\n",
              "      <td>NaN</td>\n",
              "      <td>ABC primary school</td>\n",
              "      <td>Year 1</td>\n",
              "      <td>{'id': 'A003', 'name': 'Jenny', 'math': 79, 'p...</td>\n",
              "    </tr>\n",
              "  </tbody>\n",
              "</table>\n",
              "</div>"
            ],
            "text/plain": [
              "     id   name  math  physics  chemistry         school_name   class  \\\n",
              "4  A001    Tom  60.0     66.0       61.0                 NaN     NaN   \n",
              "5  A002  James  89.0     76.0       51.0                 NaN     NaN   \n",
              "6  A003  Jenny  79.0     90.0       78.0                 NaN     NaN   \n",
              "0   NaN    NaN   NaN      NaN        NaN  ABC primary school  Year 1   \n",
              "1   NaN    NaN   NaN      NaN        NaN  ABC primary school  Year 1   \n",
              "2   NaN    NaN   NaN      NaN        NaN  ABC primary school  Year 1   \n",
              "\n",
              "                                            students  \n",
              "4                                                NaN  \n",
              "5                                                NaN  \n",
              "6                                                NaN  \n",
              "0  {'id': 'A001', 'name': 'Tom', 'math': 60, 'phy...  \n",
              "1  {'id': 'A002', 'name': 'James', 'math': 89, 'p...  \n",
              "2  {'id': 'A003', 'name': 'Jenny', 'math': 79, 'p...  "
            ]
          },
          "execution_count": 121,
          "metadata": {},
          "output_type": "execute_result"
        }
      ],
      "source": [
        "df_final=pd.concat([df_practica, df_json], axis=1)\n",
        "df_final"
      ]
    },
    {
      "cell_type": "markdown",
      "metadata": {
        "id": "Vmi9lLjaKN-a"
      },
      "source": [
        "para evitar eso hagamos un reset_index"
      ]
    },
    {
      "cell_type": "code",
      "execution_count": 122,
      "metadata": {
        "colab": {
          "base_uri": "https://localhost:8080/",
          "height": 143
        },
        "id": "__MDs_RxKRQd",
        "outputId": "50dcf855-618a-4a86-fc46-2f9f96c40543"
      },
      "outputs": [
        {
          "data": {
            "text/html": [
              "<div>\n",
              "<style scoped>\n",
              "    .dataframe tbody tr th:only-of-type {\n",
              "        vertical-align: middle;\n",
              "    }\n",
              "\n",
              "    .dataframe tbody tr th {\n",
              "        vertical-align: top;\n",
              "    }\n",
              "\n",
              "    .dataframe thead th {\n",
              "        text-align: right;\n",
              "    }\n",
              "</style>\n",
              "<table border=\"1\" class=\"dataframe\">\n",
              "  <thead>\n",
              "    <tr style=\"text-align: right;\">\n",
              "      <th></th>\n",
              "      <th>id</th>\n",
              "      <th>name</th>\n",
              "      <th>math</th>\n",
              "      <th>physics</th>\n",
              "      <th>chemistry</th>\n",
              "    </tr>\n",
              "  </thead>\n",
              "  <tbody>\n",
              "    <tr>\n",
              "      <th>0</th>\n",
              "      <td>A001</td>\n",
              "      <td>Tom</td>\n",
              "      <td>60</td>\n",
              "      <td>66</td>\n",
              "      <td>61</td>\n",
              "    </tr>\n",
              "    <tr>\n",
              "      <th>1</th>\n",
              "      <td>A002</td>\n",
              "      <td>James</td>\n",
              "      <td>89</td>\n",
              "      <td>76</td>\n",
              "      <td>51</td>\n",
              "    </tr>\n",
              "    <tr>\n",
              "      <th>2</th>\n",
              "      <td>A003</td>\n",
              "      <td>Jenny</td>\n",
              "      <td>79</td>\n",
              "      <td>90</td>\n",
              "      <td>78</td>\n",
              "    </tr>\n",
              "  </tbody>\n",
              "</table>\n",
              "</div>"
            ],
            "text/plain": [
              "     id   name  math  physics  chemistry\n",
              "0  A001    Tom    60       66         61\n",
              "1  A002  James    89       76         51\n",
              "2  A003  Jenny    79       90         78"
            ]
          },
          "execution_count": 122,
          "metadata": {},
          "output_type": "execute_result"
        }
      ],
      "source": [
        "df_practica= df_practica.reset_index(drop=True)\n",
        "df_practica"
      ]
    },
    {
      "cell_type": "code",
      "execution_count": 123,
      "metadata": {
        "colab": {
          "base_uri": "https://localhost:8080/",
          "height": 143
        },
        "id": "7DFfi2lZKhIf",
        "outputId": "92795fb3-52c4-40d6-ada7-98e2953807a1"
      },
      "outputs": [
        {
          "data": {
            "text/html": [
              "<div>\n",
              "<style scoped>\n",
              "    .dataframe tbody tr th:only-of-type {\n",
              "        vertical-align: middle;\n",
              "    }\n",
              "\n",
              "    .dataframe tbody tr th {\n",
              "        vertical-align: top;\n",
              "    }\n",
              "\n",
              "    .dataframe thead th {\n",
              "        text-align: right;\n",
              "    }\n",
              "</style>\n",
              "<table border=\"1\" class=\"dataframe\">\n",
              "  <thead>\n",
              "    <tr style=\"text-align: right;\">\n",
              "      <th></th>\n",
              "      <th>id</th>\n",
              "      <th>name</th>\n",
              "      <th>math</th>\n",
              "      <th>physics</th>\n",
              "      <th>chemistry</th>\n",
              "      <th>school_name</th>\n",
              "      <th>class</th>\n",
              "    </tr>\n",
              "  </thead>\n",
              "  <tbody>\n",
              "    <tr>\n",
              "      <th>0</th>\n",
              "      <td>A001</td>\n",
              "      <td>Tom</td>\n",
              "      <td>60</td>\n",
              "      <td>66</td>\n",
              "      <td>61</td>\n",
              "      <td>ABC primary school</td>\n",
              "      <td>Year 1</td>\n",
              "    </tr>\n",
              "    <tr>\n",
              "      <th>1</th>\n",
              "      <td>A002</td>\n",
              "      <td>James</td>\n",
              "      <td>89</td>\n",
              "      <td>76</td>\n",
              "      <td>51</td>\n",
              "      <td>ABC primary school</td>\n",
              "      <td>Year 1</td>\n",
              "    </tr>\n",
              "    <tr>\n",
              "      <th>2</th>\n",
              "      <td>A003</td>\n",
              "      <td>Jenny</td>\n",
              "      <td>79</td>\n",
              "      <td>90</td>\n",
              "      <td>78</td>\n",
              "      <td>ABC primary school</td>\n",
              "      <td>Year 1</td>\n",
              "    </tr>\n",
              "  </tbody>\n",
              "</table>\n",
              "</div>"
            ],
            "text/plain": [
              "     id   name  math  physics  chemistry         school_name   class\n",
              "0  A001    Tom    60       66         61  ABC primary school  Year 1\n",
              "1  A002  James    89       76         51  ABC primary school  Year 1\n",
              "2  A003  Jenny    79       90         78  ABC primary school  Year 1"
            ]
          },
          "execution_count": 123,
          "metadata": {},
          "output_type": "execute_result"
        }
      ],
      "source": [
        "df_final=pd.concat([df_practica, df_json], axis=1)\n",
        "df_final.drop(\"students\", axis=1, inplace=True)\n",
        "df_final\n",
        "\n",
        "# ahora si quedo igual que antes"
      ]
    }
  ],
  "metadata": {
    "colab": {
      "provenance": []
    },
    "kernelspec": {
      "display_name": "Python 3",
      "name": "python3"
    },
    "language_info": {
      "codemirror_mode": {
        "name": "ipython",
        "version": 3
      },
      "file_extension": ".py",
      "mimetype": "text/x-python",
      "name": "python",
      "nbconvert_exporter": "python",
      "pygments_lexer": "ipython3",
      "version": "3.12.6"
    }
  },
  "nbformat": 4,
  "nbformat_minor": 0
}
